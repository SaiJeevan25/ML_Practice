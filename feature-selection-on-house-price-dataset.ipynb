{
 "cells": [
  {
   "cell_type": "code",
   "execution_count": 1,
   "id": "40ee75bf",
   "metadata": {
    "_cell_guid": "b1076dfc-b9ad-4769-8c92-a6c4dae69d19",
    "_uuid": "8f2839f25d086af736a60e9eeb907d3b93b6e0e5",
    "execution": {
     "iopub.execute_input": "2025-08-12T13:56:45.753386Z",
     "iopub.status.busy": "2025-08-12T13:56:45.753084Z",
     "iopub.status.idle": "2025-08-12T13:56:50.130853Z",
     "shell.execute_reply": "2025-08-12T13:56:50.129974Z"
    },
    "papermill": {
     "duration": 4.385389,
     "end_time": "2025-08-12T13:56:50.132514",
     "exception": false,
     "start_time": "2025-08-12T13:56:45.747125",
     "status": "completed"
    },
    "tags": []
   },
   "outputs": [],
   "source": [
    "import pandas as pd\n",
    "from sklearn.feature_selection import mutual_info_regression\n",
    "import seaborn as sns\n",
    "from sklearn.model_selection import train_test_split\n",
    "import matplotlib.pyplot as plt"
   ]
  },
  {
   "cell_type": "markdown",
   "id": "fa9d999d",
   "metadata": {
    "papermill": {
     "duration": 0.003384,
     "end_time": "2025-08-12T13:56:50.140036",
     "exception": false,
     "start_time": "2025-08-12T13:56:50.136652",
     "status": "completed"
    },
    "tags": []
   },
   "source": [
    "**Step-1:** Import the dataset"
   ]
  },
  {
   "cell_type": "code",
   "execution_count": 2,
   "id": "012517bd",
   "metadata": {
    "execution": {
     "iopub.execute_input": "2025-08-12T13:56:50.149791Z",
     "iopub.status.busy": "2025-08-12T13:56:50.148311Z",
     "iopub.status.idle": "2025-08-12T13:56:50.230660Z",
     "shell.execute_reply": "2025-08-12T13:56:50.229660Z"
    },
    "papermill": {
     "duration": 0.08849,
     "end_time": "2025-08-12T13:56:50.232259",
     "exception": false,
     "start_time": "2025-08-12T13:56:50.143769",
     "status": "completed"
    },
    "tags": []
   },
   "outputs": [
    {
     "data": {
      "text/html": [
       "<div>\n",
       "<style scoped>\n",
       "    .dataframe tbody tr th:only-of-type {\n",
       "        vertical-align: middle;\n",
       "    }\n",
       "\n",
       "    .dataframe tbody tr th {\n",
       "        vertical-align: top;\n",
       "    }\n",
       "\n",
       "    .dataframe thead th {\n",
       "        text-align: right;\n",
       "    }\n",
       "</style>\n",
       "<table border=\"1\" class=\"dataframe\">\n",
       "  <thead>\n",
       "    <tr style=\"text-align: right;\">\n",
       "      <th></th>\n",
       "      <th>Id</th>\n",
       "      <th>MSSubClass</th>\n",
       "      <th>MSZoning</th>\n",
       "      <th>LotFrontage</th>\n",
       "      <th>LotArea</th>\n",
       "      <th>Street</th>\n",
       "      <th>Alley</th>\n",
       "      <th>LotShape</th>\n",
       "      <th>LandContour</th>\n",
       "      <th>Utilities</th>\n",
       "      <th>...</th>\n",
       "      <th>PoolArea</th>\n",
       "      <th>PoolQC</th>\n",
       "      <th>Fence</th>\n",
       "      <th>MiscFeature</th>\n",
       "      <th>MiscVal</th>\n",
       "      <th>MoSold</th>\n",
       "      <th>YrSold</th>\n",
       "      <th>SaleType</th>\n",
       "      <th>SaleCondition</th>\n",
       "      <th>SalePrice</th>\n",
       "    </tr>\n",
       "  </thead>\n",
       "  <tbody>\n",
       "    <tr>\n",
       "      <th>0</th>\n",
       "      <td>1</td>\n",
       "      <td>60</td>\n",
       "      <td>RL</td>\n",
       "      <td>65.0</td>\n",
       "      <td>8450</td>\n",
       "      <td>Pave</td>\n",
       "      <td>NaN</td>\n",
       "      <td>Reg</td>\n",
       "      <td>Lvl</td>\n",
       "      <td>AllPub</td>\n",
       "      <td>...</td>\n",
       "      <td>0</td>\n",
       "      <td>NaN</td>\n",
       "      <td>NaN</td>\n",
       "      <td>NaN</td>\n",
       "      <td>0</td>\n",
       "      <td>2</td>\n",
       "      <td>2008</td>\n",
       "      <td>WD</td>\n",
       "      <td>Normal</td>\n",
       "      <td>208500</td>\n",
       "    </tr>\n",
       "    <tr>\n",
       "      <th>1</th>\n",
       "      <td>2</td>\n",
       "      <td>20</td>\n",
       "      <td>RL</td>\n",
       "      <td>80.0</td>\n",
       "      <td>9600</td>\n",
       "      <td>Pave</td>\n",
       "      <td>NaN</td>\n",
       "      <td>Reg</td>\n",
       "      <td>Lvl</td>\n",
       "      <td>AllPub</td>\n",
       "      <td>...</td>\n",
       "      <td>0</td>\n",
       "      <td>NaN</td>\n",
       "      <td>NaN</td>\n",
       "      <td>NaN</td>\n",
       "      <td>0</td>\n",
       "      <td>5</td>\n",
       "      <td>2007</td>\n",
       "      <td>WD</td>\n",
       "      <td>Normal</td>\n",
       "      <td>181500</td>\n",
       "    </tr>\n",
       "    <tr>\n",
       "      <th>2</th>\n",
       "      <td>3</td>\n",
       "      <td>60</td>\n",
       "      <td>RL</td>\n",
       "      <td>68.0</td>\n",
       "      <td>11250</td>\n",
       "      <td>Pave</td>\n",
       "      <td>NaN</td>\n",
       "      <td>IR1</td>\n",
       "      <td>Lvl</td>\n",
       "      <td>AllPub</td>\n",
       "      <td>...</td>\n",
       "      <td>0</td>\n",
       "      <td>NaN</td>\n",
       "      <td>NaN</td>\n",
       "      <td>NaN</td>\n",
       "      <td>0</td>\n",
       "      <td>9</td>\n",
       "      <td>2008</td>\n",
       "      <td>WD</td>\n",
       "      <td>Normal</td>\n",
       "      <td>223500</td>\n",
       "    </tr>\n",
       "    <tr>\n",
       "      <th>3</th>\n",
       "      <td>4</td>\n",
       "      <td>70</td>\n",
       "      <td>RL</td>\n",
       "      <td>60.0</td>\n",
       "      <td>9550</td>\n",
       "      <td>Pave</td>\n",
       "      <td>NaN</td>\n",
       "      <td>IR1</td>\n",
       "      <td>Lvl</td>\n",
       "      <td>AllPub</td>\n",
       "      <td>...</td>\n",
       "      <td>0</td>\n",
       "      <td>NaN</td>\n",
       "      <td>NaN</td>\n",
       "      <td>NaN</td>\n",
       "      <td>0</td>\n",
       "      <td>2</td>\n",
       "      <td>2006</td>\n",
       "      <td>WD</td>\n",
       "      <td>Abnorml</td>\n",
       "      <td>140000</td>\n",
       "    </tr>\n",
       "    <tr>\n",
       "      <th>4</th>\n",
       "      <td>5</td>\n",
       "      <td>60</td>\n",
       "      <td>RL</td>\n",
       "      <td>84.0</td>\n",
       "      <td>14260</td>\n",
       "      <td>Pave</td>\n",
       "      <td>NaN</td>\n",
       "      <td>IR1</td>\n",
       "      <td>Lvl</td>\n",
       "      <td>AllPub</td>\n",
       "      <td>...</td>\n",
       "      <td>0</td>\n",
       "      <td>NaN</td>\n",
       "      <td>NaN</td>\n",
       "      <td>NaN</td>\n",
       "      <td>0</td>\n",
       "      <td>12</td>\n",
       "      <td>2008</td>\n",
       "      <td>WD</td>\n",
       "      <td>Normal</td>\n",
       "      <td>250000</td>\n",
       "    </tr>\n",
       "  </tbody>\n",
       "</table>\n",
       "<p>5 rows × 81 columns</p>\n",
       "</div>"
      ],
      "text/plain": [
       "   Id  MSSubClass MSZoning  LotFrontage  LotArea Street Alley LotShape  \\\n",
       "0   1          60       RL         65.0     8450   Pave   NaN      Reg   \n",
       "1   2          20       RL         80.0     9600   Pave   NaN      Reg   \n",
       "2   3          60       RL         68.0    11250   Pave   NaN      IR1   \n",
       "3   4          70       RL         60.0     9550   Pave   NaN      IR1   \n",
       "4   5          60       RL         84.0    14260   Pave   NaN      IR1   \n",
       "\n",
       "  LandContour Utilities  ... PoolArea PoolQC Fence MiscFeature MiscVal MoSold  \\\n",
       "0         Lvl    AllPub  ...        0    NaN   NaN         NaN       0      2   \n",
       "1         Lvl    AllPub  ...        0    NaN   NaN         NaN       0      5   \n",
       "2         Lvl    AllPub  ...        0    NaN   NaN         NaN       0      9   \n",
       "3         Lvl    AllPub  ...        0    NaN   NaN         NaN       0      2   \n",
       "4         Lvl    AllPub  ...        0    NaN   NaN         NaN       0     12   \n",
       "\n",
       "  YrSold  SaleType  SaleCondition  SalePrice  \n",
       "0   2008        WD         Normal     208500  \n",
       "1   2007        WD         Normal     181500  \n",
       "2   2008        WD         Normal     223500  \n",
       "3   2006        WD        Abnorml     140000  \n",
       "4   2008        WD         Normal     250000  \n",
       "\n",
       "[5 rows x 81 columns]"
      ]
     },
     "execution_count": 2,
     "metadata": {},
     "output_type": "execute_result"
    }
   ],
   "source": [
    "df = pd.read_csv(\"/kaggle/input/housepricedataset/house_price_train.csv\")\n",
    "df.head()"
   ]
  },
  {
   "cell_type": "markdown",
   "id": "b469d13f",
   "metadata": {
    "papermill": {
     "duration": 0.003826,
     "end_time": "2025-08-12T13:56:50.240338",
     "exception": false,
     "start_time": "2025-08-12T13:56:50.236512",
     "status": "completed"
    },
    "tags": []
   },
   "source": [
    "**Step-2:** Handling the Null values in the dataset"
   ]
  },
  {
   "cell_type": "code",
   "execution_count": 3,
   "id": "28f90ac7",
   "metadata": {
    "execution": {
     "iopub.execute_input": "2025-08-12T13:56:50.249589Z",
     "iopub.status.busy": "2025-08-12T13:56:50.249235Z",
     "iopub.status.idle": "2025-08-12T13:56:50.261587Z",
     "shell.execute_reply": "2025-08-12T13:56:50.260244Z"
    },
    "papermill": {
     "duration": 0.018856,
     "end_time": "2025-08-12T13:56:50.263192",
     "exception": false,
     "start_time": "2025-08-12T13:56:50.244336",
     "status": "completed"
    },
    "tags": []
   },
   "outputs": [
    {
     "data": {
      "text/plain": [
       "Id                 0\n",
       "MSSubClass         0\n",
       "MSZoning           0\n",
       "LotFrontage      259\n",
       "LotArea            0\n",
       "                ... \n",
       "MoSold             0\n",
       "YrSold             0\n",
       "SaleType           0\n",
       "SaleCondition      0\n",
       "SalePrice          0\n",
       "Length: 81, dtype: int64"
      ]
     },
     "execution_count": 3,
     "metadata": {},
     "output_type": "execute_result"
    }
   ],
   "source": [
    "df.isnull().sum()"
   ]
  },
  {
   "cell_type": "code",
   "execution_count": 4,
   "id": "de0d8964",
   "metadata": {
    "execution": {
     "iopub.execute_input": "2025-08-12T13:56:50.273101Z",
     "iopub.status.busy": "2025-08-12T13:56:50.272781Z",
     "iopub.status.idle": "2025-08-12T13:56:50.328056Z",
     "shell.execute_reply": "2025-08-12T13:56:50.327007Z"
    },
    "papermill": {
     "duration": 0.062207,
     "end_time": "2025-08-12T13:56:50.329873",
     "exception": false,
     "start_time": "2025-08-12T13:56:50.267666",
     "status": "completed"
    },
    "tags": []
   },
   "outputs": [],
   "source": [
    "#Drop the null values if you have more than 30% of Null\n",
    "\n",
    "df.dropna(axis=1, thresh=0.7*len(df), inplace=True)\n",
    "\n",
    "#Fill the null values\n",
    "# Separate numerical and categorical columns\n",
    "numerical_cols = df.select_dtypes(include=['int64', 'float64']).columns\n",
    "categorical_cols = df.select_dtypes(include=['object', 'category']).columns\n",
    "\n",
    "df[numerical_cols] = df[numerical_cols].fillna(df[numerical_cols].median())\n",
    "\n",
    "for col in categorical_cols:\n",
    "    df[col] = df[col].fillna(df[col].mode()[0])\n"
   ]
  },
  {
   "cell_type": "code",
   "execution_count": 5,
   "id": "f1a13573",
   "metadata": {
    "execution": {
     "iopub.execute_input": "2025-08-12T13:56:50.339571Z",
     "iopub.status.busy": "2025-08-12T13:56:50.339202Z",
     "iopub.status.idle": "2025-08-12T13:56:50.358931Z",
     "shell.execute_reply": "2025-08-12T13:56:50.357847Z"
    },
    "papermill": {
     "duration": 0.026524,
     "end_time": "2025-08-12T13:56:50.360672",
     "exception": false,
     "start_time": "2025-08-12T13:56:50.334148",
     "status": "completed"
    },
    "tags": []
   },
   "outputs": [
    {
     "data": {
      "text/html": [
       "<div>\n",
       "<style scoped>\n",
       "    .dataframe tbody tr th:only-of-type {\n",
       "        vertical-align: middle;\n",
       "    }\n",
       "\n",
       "    .dataframe tbody tr th {\n",
       "        vertical-align: top;\n",
       "    }\n",
       "\n",
       "    .dataframe thead th {\n",
       "        text-align: right;\n",
       "    }\n",
       "</style>\n",
       "<table border=\"1\" class=\"dataframe\">\n",
       "  <thead>\n",
       "    <tr style=\"text-align: right;\">\n",
       "      <th></th>\n",
       "      <th>Id</th>\n",
       "      <th>MSSubClass</th>\n",
       "      <th>MSZoning</th>\n",
       "      <th>LotFrontage</th>\n",
       "      <th>LotArea</th>\n",
       "      <th>Street</th>\n",
       "      <th>LotShape</th>\n",
       "      <th>LandContour</th>\n",
       "      <th>Utilities</th>\n",
       "      <th>LotConfig</th>\n",
       "      <th>...</th>\n",
       "      <th>EnclosedPorch</th>\n",
       "      <th>3SsnPorch</th>\n",
       "      <th>ScreenPorch</th>\n",
       "      <th>PoolArea</th>\n",
       "      <th>MiscVal</th>\n",
       "      <th>MoSold</th>\n",
       "      <th>YrSold</th>\n",
       "      <th>SaleType</th>\n",
       "      <th>SaleCondition</th>\n",
       "      <th>SalePrice</th>\n",
       "    </tr>\n",
       "  </thead>\n",
       "  <tbody>\n",
       "    <tr>\n",
       "      <th>0</th>\n",
       "      <td>1</td>\n",
       "      <td>60</td>\n",
       "      <td>RL</td>\n",
       "      <td>65.0</td>\n",
       "      <td>8450</td>\n",
       "      <td>Pave</td>\n",
       "      <td>Reg</td>\n",
       "      <td>Lvl</td>\n",
       "      <td>AllPub</td>\n",
       "      <td>Inside</td>\n",
       "      <td>...</td>\n",
       "      <td>0</td>\n",
       "      <td>0</td>\n",
       "      <td>0</td>\n",
       "      <td>0</td>\n",
       "      <td>0</td>\n",
       "      <td>2</td>\n",
       "      <td>2008</td>\n",
       "      <td>WD</td>\n",
       "      <td>Normal</td>\n",
       "      <td>208500</td>\n",
       "    </tr>\n",
       "    <tr>\n",
       "      <th>1</th>\n",
       "      <td>2</td>\n",
       "      <td>20</td>\n",
       "      <td>RL</td>\n",
       "      <td>80.0</td>\n",
       "      <td>9600</td>\n",
       "      <td>Pave</td>\n",
       "      <td>Reg</td>\n",
       "      <td>Lvl</td>\n",
       "      <td>AllPub</td>\n",
       "      <td>FR2</td>\n",
       "      <td>...</td>\n",
       "      <td>0</td>\n",
       "      <td>0</td>\n",
       "      <td>0</td>\n",
       "      <td>0</td>\n",
       "      <td>0</td>\n",
       "      <td>5</td>\n",
       "      <td>2007</td>\n",
       "      <td>WD</td>\n",
       "      <td>Normal</td>\n",
       "      <td>181500</td>\n",
       "    </tr>\n",
       "    <tr>\n",
       "      <th>2</th>\n",
       "      <td>3</td>\n",
       "      <td>60</td>\n",
       "      <td>RL</td>\n",
       "      <td>68.0</td>\n",
       "      <td>11250</td>\n",
       "      <td>Pave</td>\n",
       "      <td>IR1</td>\n",
       "      <td>Lvl</td>\n",
       "      <td>AllPub</td>\n",
       "      <td>Inside</td>\n",
       "      <td>...</td>\n",
       "      <td>0</td>\n",
       "      <td>0</td>\n",
       "      <td>0</td>\n",
       "      <td>0</td>\n",
       "      <td>0</td>\n",
       "      <td>9</td>\n",
       "      <td>2008</td>\n",
       "      <td>WD</td>\n",
       "      <td>Normal</td>\n",
       "      <td>223500</td>\n",
       "    </tr>\n",
       "    <tr>\n",
       "      <th>3</th>\n",
       "      <td>4</td>\n",
       "      <td>70</td>\n",
       "      <td>RL</td>\n",
       "      <td>60.0</td>\n",
       "      <td>9550</td>\n",
       "      <td>Pave</td>\n",
       "      <td>IR1</td>\n",
       "      <td>Lvl</td>\n",
       "      <td>AllPub</td>\n",
       "      <td>Corner</td>\n",
       "      <td>...</td>\n",
       "      <td>272</td>\n",
       "      <td>0</td>\n",
       "      <td>0</td>\n",
       "      <td>0</td>\n",
       "      <td>0</td>\n",
       "      <td>2</td>\n",
       "      <td>2006</td>\n",
       "      <td>WD</td>\n",
       "      <td>Abnorml</td>\n",
       "      <td>140000</td>\n",
       "    </tr>\n",
       "    <tr>\n",
       "      <th>4</th>\n",
       "      <td>5</td>\n",
       "      <td>60</td>\n",
       "      <td>RL</td>\n",
       "      <td>84.0</td>\n",
       "      <td>14260</td>\n",
       "      <td>Pave</td>\n",
       "      <td>IR1</td>\n",
       "      <td>Lvl</td>\n",
       "      <td>AllPub</td>\n",
       "      <td>FR2</td>\n",
       "      <td>...</td>\n",
       "      <td>0</td>\n",
       "      <td>0</td>\n",
       "      <td>0</td>\n",
       "      <td>0</td>\n",
       "      <td>0</td>\n",
       "      <td>12</td>\n",
       "      <td>2008</td>\n",
       "      <td>WD</td>\n",
       "      <td>Normal</td>\n",
       "      <td>250000</td>\n",
       "    </tr>\n",
       "  </tbody>\n",
       "</table>\n",
       "<p>5 rows × 75 columns</p>\n",
       "</div>"
      ],
      "text/plain": [
       "   Id  MSSubClass MSZoning  LotFrontage  LotArea Street LotShape LandContour  \\\n",
       "0   1          60       RL         65.0     8450   Pave      Reg         Lvl   \n",
       "1   2          20       RL         80.0     9600   Pave      Reg         Lvl   \n",
       "2   3          60       RL         68.0    11250   Pave      IR1         Lvl   \n",
       "3   4          70       RL         60.0     9550   Pave      IR1         Lvl   \n",
       "4   5          60       RL         84.0    14260   Pave      IR1         Lvl   \n",
       "\n",
       "  Utilities LotConfig  ... EnclosedPorch 3SsnPorch ScreenPorch PoolArea  \\\n",
       "0    AllPub    Inside  ...             0         0           0        0   \n",
       "1    AllPub       FR2  ...             0         0           0        0   \n",
       "2    AllPub    Inside  ...             0         0           0        0   \n",
       "3    AllPub    Corner  ...           272         0           0        0   \n",
       "4    AllPub       FR2  ...             0         0           0        0   \n",
       "\n",
       "  MiscVal MoSold  YrSold  SaleType  SaleCondition  SalePrice  \n",
       "0       0      2    2008        WD         Normal     208500  \n",
       "1       0      5    2007        WD         Normal     181500  \n",
       "2       0      9    2008        WD         Normal     223500  \n",
       "3       0      2    2006        WD        Abnorml     140000  \n",
       "4       0     12    2008        WD         Normal     250000  \n",
       "\n",
       "[5 rows x 75 columns]"
      ]
     },
     "execution_count": 5,
     "metadata": {},
     "output_type": "execute_result"
    }
   ],
   "source": [
    "df.head()"
   ]
  },
  {
   "cell_type": "markdown",
   "id": "d053b270",
   "metadata": {
    "papermill": {
     "duration": 0.00414,
     "end_time": "2025-08-12T13:56:50.369305",
     "exception": false,
     "start_time": "2025-08-12T13:56:50.365165",
     "status": "completed"
    },
    "tags": []
   },
   "source": [
    "**Step-3:** Splitting the Dataset"
   ]
  },
  {
   "cell_type": "code",
   "execution_count": 6,
   "id": "cc4d7730",
   "metadata": {
    "execution": {
     "iopub.execute_input": "2025-08-12T13:56:50.380619Z",
     "iopub.status.busy": "2025-08-12T13:56:50.379866Z",
     "iopub.status.idle": "2025-08-12T13:56:50.394782Z",
     "shell.execute_reply": "2025-08-12T13:56:50.393832Z"
    },
    "papermill": {
     "duration": 0.021898,
     "end_time": "2025-08-12T13:56:50.396420",
     "exception": false,
     "start_time": "2025-08-12T13:56:50.374522",
     "status": "completed"
    },
    "tags": []
   },
   "outputs": [],
   "source": [
    "X = df.drop('SalePrice', axis=1)\n",
    "y = df['SalePrice']\n",
    "\n",
    "X_train, X_test, y_train, y_test = train_test_split(X,y, test_size=0.2, random_state=42)"
   ]
  },
  {
   "cell_type": "markdown",
   "id": "f3db2536",
   "metadata": {
    "papermill": {
     "duration": 0.00413,
     "end_time": "2025-08-12T13:56:50.405062",
     "exception": false,
     "start_time": "2025-08-12T13:56:50.400932",
     "status": "completed"
    },
    "tags": []
   },
   "source": [
    "**Step-4:** Applying Constant Feature"
   ]
  },
  {
   "cell_type": "code",
   "execution_count": 7,
   "id": "678fda20",
   "metadata": {
    "execution": {
     "iopub.execute_input": "2025-08-12T13:56:50.415577Z",
     "iopub.status.busy": "2025-08-12T13:56:50.415239Z",
     "iopub.status.idle": "2025-08-12T13:56:50.422908Z",
     "shell.execute_reply": "2025-08-12T13:56:50.421948Z"
    },
    "papermill": {
     "duration": 0.014623,
     "end_time": "2025-08-12T13:56:50.424504",
     "exception": false,
     "start_time": "2025-08-12T13:56:50.409881",
     "status": "completed"
    },
    "tags": []
   },
   "outputs": [
    {
     "name": "stdout",
     "output_type": "stream",
     "text": [
      "[]\n"
     ]
    }
   ],
   "source": [
    "constant_feature = [col for col in X_train.columns if X_train[col].nunique == 1]\n",
    "print(constant_feature)"
   ]
  },
  {
   "cell_type": "markdown",
   "id": "0a1a7b39",
   "metadata": {
    "papermill": {
     "duration": 0.004344,
     "end_time": "2025-08-12T13:56:50.434147",
     "exception": false,
     "start_time": "2025-08-12T13:56:50.429803",
     "status": "completed"
    },
    "tags": []
   },
   "source": [
    "Step-5: Quasi Constant Feature"
   ]
  },
  {
   "cell_type": "code",
   "execution_count": 8,
   "id": "e543aa6d",
   "metadata": {
    "execution": {
     "iopub.execute_input": "2025-08-12T13:56:50.444237Z",
     "iopub.status.busy": "2025-08-12T13:56:50.443932Z",
     "iopub.status.idle": "2025-08-12T13:56:50.489221Z",
     "shell.execute_reply": "2025-08-12T13:56:50.488152Z"
    },
    "papermill": {
     "duration": 0.052075,
     "end_time": "2025-08-12T13:56:50.490724",
     "exception": false,
     "start_time": "2025-08-12T13:56:50.438649",
     "status": "completed"
    },
    "tags": []
   },
   "outputs": [
    {
     "name": "stdout",
     "output_type": "stream",
     "text": [
      "quasi_constant_feature:  ['Street', 'Utilities', 'Condition2', 'RoofMatl', 'LowQualFinSF', '3SsnPorch', 'PoolArea']\n"
     ]
    }
   ],
   "source": [
    "quasi_constant_feature = []\n",
    "threshold = 0.98\n",
    "\n",
    "for col in X_train.columns:\n",
    "    freq = X_train[col].value_counts(normalize=True).iloc[0]\n",
    "    if freq >= threshold:\n",
    "        quasi_constant_feature.append(col)\n",
    "\n",
    "print(\"quasi_constant_feature: \", quasi_constant_feature)\n",
    "\n",
    "X_train = X_train.drop(columns=quasi_constant_feature, axis=1)\n",
    "X_test = X_test.drop(columns=quasi_constant_feature, axis=1)"
   ]
  },
  {
   "cell_type": "markdown",
   "id": "8aaa086c",
   "metadata": {
    "papermill": {
     "duration": 0.004135,
     "end_time": "2025-08-12T13:56:50.499434",
     "exception": false,
     "start_time": "2025-08-12T13:56:50.495299",
     "status": "completed"
    },
    "tags": []
   },
   "source": [
    "**Step-6:** Duplicate Features"
   ]
  },
  {
   "cell_type": "code",
   "execution_count": 9,
   "id": "d60c2e56",
   "metadata": {
    "execution": {
     "iopub.execute_input": "2025-08-12T13:56:50.509305Z",
     "iopub.status.busy": "2025-08-12T13:56:50.509001Z",
     "iopub.status.idle": "2025-08-12T13:56:50.678879Z",
     "shell.execute_reply": "2025-08-12T13:56:50.677908Z"
    },
    "papermill": {
     "duration": 0.17673,
     "end_time": "2025-08-12T13:56:50.680441",
     "exception": false,
     "start_time": "2025-08-12T13:56:50.503711",
     "status": "completed"
    },
    "tags": []
   },
   "outputs": [
    {
     "name": "stdout",
     "output_type": "stream",
     "text": [
      "[]\n"
     ]
    }
   ],
   "source": [
    "train_T = X_train.T\n",
    "duplicate_features = train_T[train_T.duplicated()].index.tolist()\n",
    "print(duplicate_features)\n",
    "\n",
    "X_train = X_train.drop(columns=duplicate_features, axis=1)\n",
    "X_test = X_test.drop(columns=duplicate_features, axis=1)"
   ]
  },
  {
   "cell_type": "markdown",
   "id": "6b4b1e76",
   "metadata": {
    "papermill": {
     "duration": 0.004629,
     "end_time": "2025-08-12T13:56:50.689823",
     "exception": false,
     "start_time": "2025-08-12T13:56:50.685194",
     "status": "completed"
    },
    "tags": []
   },
   "source": [
    "**Step-7:** Correlation"
   ]
  },
  {
   "cell_type": "code",
   "execution_count": 10,
   "id": "9bfeab8a",
   "metadata": {
    "execution": {
     "iopub.execute_input": "2025-08-12T13:56:50.700098Z",
     "iopub.status.busy": "2025-08-12T13:56:50.699770Z",
     "iopub.status.idle": "2025-08-12T13:56:50.728087Z",
     "shell.execute_reply": "2025-08-12T13:56:50.727134Z"
    },
    "papermill": {
     "duration": 0.035435,
     "end_time": "2025-08-12T13:56:50.729650",
     "exception": false,
     "start_time": "2025-08-12T13:56:50.694215",
     "status": "completed"
    },
    "tags": []
   },
   "outputs": [
    {
     "name": "stdout",
     "output_type": "stream",
     "text": [
      "set()\n"
     ]
    }
   ],
   "source": [
    "numerical_X_train = X_train.select_dtypes(include=['number'])\n",
    "corr_matrix = numerical_X_train.corr()\n",
    "corr_threshold = 0.98\n",
    "corr_pairs = set()\n",
    "\n",
    "for i in range(len(corr_matrix.columns)):\n",
    "    for j in range(i):\n",
    "        if abs(corr_matrix.iloc[i,j] > corr_threshold):\n",
    "            corr_pairs.add(corr_matrix.columns[i])\n",
    "\n",
    "print(corr_pairs)"
   ]
  },
  {
   "cell_type": "code",
   "execution_count": 11,
   "id": "36c788e7",
   "metadata": {
    "execution": {
     "iopub.execute_input": "2025-08-12T13:56:50.740499Z",
     "iopub.status.busy": "2025-08-12T13:56:50.740160Z",
     "iopub.status.idle": "2025-08-12T13:56:51.480926Z",
     "shell.execute_reply": "2025-08-12T13:56:51.479898Z"
    },
    "papermill": {
     "duration": 0.749979,
     "end_time": "2025-08-12T13:56:51.484381",
     "exception": false,
     "start_time": "2025-08-12T13:56:50.734402",
     "status": "completed"
    },
    "tags": []
   },
   "outputs": [
    {
     "data": {
      "image/png": "[encoded data removed]",
      "text/plain": [
       "<Figure size 1200x800 with 2 Axes>"
      ]
     },
     "metadata": {},
     "output_type": "display_data"
    }
   ],
   "source": [
    "#Heatmap\n",
    "plt.figure(figsize=(12,8))\n",
    "sns.heatmap(corr_matrix, annot=False, cmap=\"coolwarm\")\n",
    "plt.title(\"Correlation Heatmap-\")\n",
    "plt.show()"
   ]
  },
  {
   "cell_type": "markdown",
   "id": "7df68df4",
   "metadata": {
    "papermill": {
     "duration": 0.006549,
     "end_time": "2025-08-12T13:56:51.498232",
     "exception": false,
     "start_time": "2025-08-12T13:56:51.491683",
     "status": "completed"
    },
    "tags": []
   },
   "source": [
    "**Step-8:** Mututal Information Regression"
   ]
  },
  {
   "cell_type": "code",
   "execution_count": 12,
   "id": "a8aaf468",
   "metadata": {
    "execution": {
     "iopub.execute_input": "2025-08-12T13:56:51.512933Z",
     "iopub.status.busy": "2025-08-12T13:56:51.512613Z",
     "iopub.status.idle": "2025-08-12T13:56:51.819168Z",
     "shell.execute_reply": "2025-08-12T13:56:51.818148Z"
    },
    "papermill": {
     "duration": 0.315662,
     "end_time": "2025-08-12T13:56:51.820656",
     "exception": false,
     "start_time": "2025-08-12T13:56:51.504994",
     "status": "completed"
    },
    "tags": []
   },
   "outputs": [
    {
     "name": "stdout",
     "output_type": "stream",
     "text": [
      "['YrSold', 'BsmtFinSF2', 'Id', 'MiscVal', 'MoSold', 'BsmtHalfBath']\n"
     ]
    }
   ],
   "source": [
    "numerical_X_train = X_train.select_dtypes(include=['number'])\n",
    "\n",
    "mi_scores = mutual_info_regression(numerical_X_train, y_train, discrete_features=False)\n",
    "mi_df = pd.Series(mi_scores, index=numerical_X_train.columns)\n",
    "mi_df = mi_df.sort_values(ascending=False)\n",
    "\n",
    "\n",
    "low_importance = mi_df[mi_df < 0.01].index.tolist()\n",
    "\n",
    "print(low_importance)\n",
    "\n",
    "X_train = X_train.drop(columns=low_importance,axis=1)\n",
    "X_test = X_test.drop(columns=low_importance, axis =1)"
   ]
  },
  {
   "cell_type": "code",
   "execution_count": 13,
   "id": "fd9890b2",
   "metadata": {
    "execution": {
     "iopub.execute_input": "2025-08-12T13:56:51.836009Z",
     "iopub.status.busy": "2025-08-12T13:56:51.835699Z",
     "iopub.status.idle": "2025-08-12T13:56:51.839834Z",
     "shell.execute_reply": "2025-08-12T13:56:51.838958Z"
    },
    "papermill": {
     "duration": 0.013579,
     "end_time": "2025-08-12T13:56:51.841330",
     "exception": false,
     "start_time": "2025-08-12T13:56:51.827751",
     "status": "completed"
    },
    "tags": []
   },
   "outputs": [],
   "source": [
    "#Chi Square cannot be applied since the output feature is numerical"
   ]
  },
  {
   "cell_type": "code",
   "execution_count": 14,
   "id": "aa5da7a1",
   "metadata": {
    "execution": {
     "iopub.execute_input": "2025-08-12T13:56:51.856845Z",
     "iopub.status.busy": "2025-08-12T13:56:51.856518Z",
     "iopub.status.idle": "2025-08-12T13:56:51.877569Z",
     "shell.execute_reply": "2025-08-12T13:56:51.876519Z"
    },
    "papermill": {
     "duration": 0.030722,
     "end_time": "2025-08-12T13:56:51.879134",
     "exception": false,
     "start_time": "2025-08-12T13:56:51.848412",
     "status": "completed"
    },
    "tags": []
   },
   "outputs": [
    {
     "name": "stdout",
     "output_type": "stream",
     "text": [
      "Dropping features with weak linear relationship: []\n"
     ]
    }
   ],
   "source": [
    "from sklearn.feature_selection import f_regression\n",
    "import pandas as pd\n",
    "\n",
    "# 1. Select numerical features\n",
    "X_num = X_train.select_dtypes(include='number')\n",
    "\n",
    "# 2. Compute F-statistic and p-values\n",
    "f_scores, p_values = f_regression(X_num, y_train)\n",
    "\n",
    "# 3. Wrap into a DataFrame for better understanding\n",
    "anova_df = pd.DataFrame({\n",
    "    'F_Score': f_scores,\n",
    "    'P_Value': p_values\n",
    "}, index=X_num.columns)\n",
    "\n",
    "# 4. Sort by F-score (descending)\n",
    "anova_df = anova_df.sort_values(by='F_Score', ascending=False)\n",
    "\n",
    "# 5. Optional: remove features with weak relationship (e.g., p-value > 0.05)\n",
    "insignificant_features = anova_df[anova_df['P_Value'] > 0.05].index.tolist()\n",
    "\n",
    "print(\"Dropping features with weak linear relationship:\", insignificant_features)\n",
    "\n",
    "# 6. Drop those from train and test\n",
    "X_train = X_train.drop(columns=insignificant_features)\n",
    "X_test = X_test.drop(columns=insignificant_features)\n"
   ]
  }
 ],
 "metadata": {
  "kaggle": {
   "accelerator": "none",
   "dataSources": [
    {
     "datasetId": 8018699,
     "sourceId": 12688932,
     "sourceType": "datasetVersion"
    }
   ],
   "dockerImageVersionId": 31089,
   "isGpuEnabled": false,
   "isInternetEnabled": true,
   "language": "python",
   "sourceType": "notebook"
  },
  "kernelspec": {
   "display_name": "Python 3",
   "language": "python",
   "name": "python3"
  },
  "language_info": {
   "codemirror_mode": {
    "name": "ipython",
    "version": 3
   },
   "file_extension": ".py",
   "mimetype": "text/x-python",
   "name": "python",
   "nbconvert_exporter": "python",
   "pygments_lexer": "ipython3",
   "version": "3.11.13"
  },
  "papermill": {
   "default_parameters": {},
   "duration": 12.759041,
   "end_time": "2025-08-12T13:56:52.607602",
   "environment_variables": {},
   "exception": null,
   "input_path": "__notebook__.ipynb",
   "output_path": "__notebook__.ipynb",
   "parameters": {},
   "start_time": "2025-08-12T13:56:39.848561",
   "version": "2.6.0"
  }
 },
 "nbformat": 4,
 "nbformat_minor": 5
}
