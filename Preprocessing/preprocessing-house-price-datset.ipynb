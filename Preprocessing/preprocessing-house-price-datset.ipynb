{
 "cells": [
  {
   "cell_type": "markdown",
   "id": "22940cd1",
   "metadata": {
    "papermill": {
     "duration": 0.00439,
     "end_time": "2025-08-27T17:05:56.788664",
     "exception": false,
     "start_time": "2025-08-27T17:05:56.784274",
     "status": "completed"
    },
    "tags": []
   },
   "source": [
    "# House Price Dataset - Preprocessing\n",
    "\n",
    "This section involves the preprocessing of the House Price dataset, which includes various features related to residential properties and their sale prices. The goal of preprocessing is to clean, transform, and prepare the data for machine learning models to accurately predict house prices.\n",
    "**Steps Covered:**\n",
    "\n",
    "1. Load the dataset and perform basic inspection.\n",
    "\n",
    "2. Handle missing values using appropriate imputation or removal techniques.\n",
    "\n",
    "3. Convert data types to suitable formats (e.g., categorical, datetime).\n",
    "\n",
    "4. Detect and treat outliers using statistical methods.\n",
    "\n",
    "5. Encode categorical variables using label or one-hot encoding.\n",
    "\n",
    "6. Clean and standardise data entries for consistency.\n",
    "\n",
    "7. Scale numerical features using normalisation or standardisation.\n",
    "\n",
    "8. Perform basic feature engineering to create helpful derived features.\n"
   ]
  },
  {
   "cell_type": "code",
   "execution_count": 1,
   "id": "28ef0f91",
   "metadata": {
    "_cell_guid": "b1076dfc-b9ad-4769-8c92-a6c4dae69d19",
    "_uuid": "8f2839f25d086af736a60e9eeb907d3b93b6e0e5",
    "execution": {
     "iopub.execute_input": "2025-08-27T17:05:56.797628Z",
     "iopub.status.busy": "2025-08-27T17:05:56.797270Z",
     "iopub.status.idle": "2025-08-27T17:05:58.895720Z",
     "shell.execute_reply": "2025-08-27T17:05:58.894668Z"
    },
    "papermill": {
     "duration": 2.105116,
     "end_time": "2025-08-27T17:05:58.897578",
     "exception": false,
     "start_time": "2025-08-27T17:05:56.792462",
     "status": "completed"
    },
    "tags": []
   },
   "outputs": [],
   "source": [
    "#imports\n",
    "\n",
    "import pandas as pd"
   ]
  },
  {
   "cell_type": "markdown",
   "id": "c93128c7",
   "metadata": {
    "papermill": {
     "duration": 0.003313,
     "end_time": "2025-08-27T17:05:58.904815",
     "exception": false,
     "start_time": "2025-08-27T17:05:58.901502",
     "status": "completed"
    },
    "tags": []
   },
   "source": [
    "**Step-1:** Import the dataset"
   ]
  },
  {
   "cell_type": "code",
   "execution_count": 2,
   "id": "fbd24300",
   "metadata": {
    "execution": {
     "iopub.execute_input": "2025-08-27T17:05:58.913701Z",
     "iopub.status.busy": "2025-08-27T17:05:58.912845Z",
     "iopub.status.idle": "2025-08-27T17:05:59.016034Z",
     "shell.execute_reply": "2025-08-27T17:05:59.014963Z"
    },
    "papermill": {
     "duration": 0.109293,
     "end_time": "2025-08-27T17:05:59.017713",
     "exception": false,
     "start_time": "2025-08-27T17:05:58.908420",
     "status": "completed"
    },
    "tags": []
   },
   "outputs": [
    {
     "name": "stdout",
     "output_type": "stream",
     "text": [
      "(1460, 81)\n"
     ]
    },
    {
     "data": {
      "text/html": [
       "<div>\n",
       "<style scoped>\n",
       "    .dataframe tbody tr th:only-of-type {\n",
       "        vertical-align: middle;\n",
       "    }\n",
       "\n",
       "    .dataframe tbody tr th {\n",
       "        vertical-align: top;\n",
       "    }\n",
       "\n",
       "    .dataframe thead th {\n",
       "        text-align: right;\n",
       "    }\n",
       "</style>\n",
       "<table border=\"1\" class=\"dataframe\">\n",
       "  <thead>\n",
       "    <tr style=\"text-align: right;\">\n",
       "      <th></th>\n",
       "      <th>Id</th>\n",
       "      <th>MSSubClass</th>\n",
       "      <th>MSZoning</th>\n",
       "      <th>LotFrontage</th>\n",
       "      <th>LotArea</th>\n",
       "      <th>Street</th>\n",
       "      <th>Alley</th>\n",
       "      <th>LotShape</th>\n",
       "      <th>LandContour</th>\n",
       "      <th>Utilities</th>\n",
       "      <th>...</th>\n",
       "      <th>PoolArea</th>\n",
       "      <th>PoolQC</th>\n",
       "      <th>Fence</th>\n",
       "      <th>MiscFeature</th>\n",
       "      <th>MiscVal</th>\n",
       "      <th>MoSold</th>\n",
       "      <th>YrSold</th>\n",
       "      <th>SaleType</th>\n",
       "      <th>SaleCondition</th>\n",
       "      <th>SalePrice</th>\n",
       "    </tr>\n",
       "  </thead>\n",
       "  <tbody>\n",
       "    <tr>\n",
       "      <th>0</th>\n",
       "      <td>1</td>\n",
       "      <td>60</td>\n",
       "      <td>RL</td>\n",
       "      <td>65.0</td>\n",
       "      <td>8450</td>\n",
       "      <td>Pave</td>\n",
       "      <td>NaN</td>\n",
       "      <td>Reg</td>\n",
       "      <td>Lvl</td>\n",
       "      <td>AllPub</td>\n",
       "      <td>...</td>\n",
       "      <td>0</td>\n",
       "      <td>NaN</td>\n",
       "      <td>NaN</td>\n",
       "      <td>NaN</td>\n",
       "      <td>0</td>\n",
       "      <td>2</td>\n",
       "      <td>2008</td>\n",
       "      <td>WD</td>\n",
       "      <td>Normal</td>\n",
       "      <td>208500</td>\n",
       "    </tr>\n",
       "    <tr>\n",
       "      <th>1</th>\n",
       "      <td>2</td>\n",
       "      <td>20</td>\n",
       "      <td>RL</td>\n",
       "      <td>80.0</td>\n",
       "      <td>9600</td>\n",
       "      <td>Pave</td>\n",
       "      <td>NaN</td>\n",
       "      <td>Reg</td>\n",
       "      <td>Lvl</td>\n",
       "      <td>AllPub</td>\n",
       "      <td>...</td>\n",
       "      <td>0</td>\n",
       "      <td>NaN</td>\n",
       "      <td>NaN</td>\n",
       "      <td>NaN</td>\n",
       "      <td>0</td>\n",
       "      <td>5</td>\n",
       "      <td>2007</td>\n",
       "      <td>WD</td>\n",
       "      <td>Normal</td>\n",
       "      <td>181500</td>\n",
       "    </tr>\n",
       "    <tr>\n",
       "      <th>2</th>\n",
       "      <td>3</td>\n",
       "      <td>60</td>\n",
       "      <td>RL</td>\n",
       "      <td>68.0</td>\n",
       "      <td>11250</td>\n",
       "      <td>Pave</td>\n",
       "      <td>NaN</td>\n",
       "      <td>IR1</td>\n",
       "      <td>Lvl</td>\n",
       "      <td>AllPub</td>\n",
       "      <td>...</td>\n",
       "      <td>0</td>\n",
       "      <td>NaN</td>\n",
       "      <td>NaN</td>\n",
       "      <td>NaN</td>\n",
       "      <td>0</td>\n",
       "      <td>9</td>\n",
       "      <td>2008</td>\n",
       "      <td>WD</td>\n",
       "      <td>Normal</td>\n",
       "      <td>223500</td>\n",
       "    </tr>\n",
       "    <tr>\n",
       "      <th>3</th>\n",
       "      <td>4</td>\n",
       "      <td>70</td>\n",
       "      <td>RL</td>\n",
       "      <td>60.0</td>\n",
       "      <td>9550</td>\n",
       "      <td>Pave</td>\n",
       "      <td>NaN</td>\n",
       "      <td>IR1</td>\n",
       "      <td>Lvl</td>\n",
       "      <td>AllPub</td>\n",
       "      <td>...</td>\n",
       "      <td>0</td>\n",
       "      <td>NaN</td>\n",
       "      <td>NaN</td>\n",
       "      <td>NaN</td>\n",
       "      <td>0</td>\n",
       "      <td>2</td>\n",
       "      <td>2006</td>\n",
       "      <td>WD</td>\n",
       "      <td>Abnorml</td>\n",
       "      <td>140000</td>\n",
       "    </tr>\n",
       "    <tr>\n",
       "      <th>4</th>\n",
       "      <td>5</td>\n",
       "      <td>60</td>\n",
       "      <td>RL</td>\n",
       "      <td>84.0</td>\n",
       "      <td>14260</td>\n",
       "      <td>Pave</td>\n",
       "      <td>NaN</td>\n",
       "      <td>IR1</td>\n",
       "      <td>Lvl</td>\n",
       "      <td>AllPub</td>\n",
       "      <td>...</td>\n",
       "      <td>0</td>\n",
       "      <td>NaN</td>\n",
       "      <td>NaN</td>\n",
       "      <td>NaN</td>\n",
       "      <td>0</td>\n",
       "      <td>12</td>\n",
       "      <td>2008</td>\n",
       "      <td>WD</td>\n",
       "      <td>Normal</td>\n",
       "      <td>250000</td>\n",
       "    </tr>\n",
       "  </tbody>\n",
       "</table>\n",
       "<p>5 rows × 81 columns</p>\n",
       "</div>"
      ],
      "text/plain": [
       "   Id  MSSubClass MSZoning  LotFrontage  LotArea Street Alley LotShape  \\\n",
       "0   1          60       RL         65.0     8450   Pave   NaN      Reg   \n",
       "1   2          20       RL         80.0     9600   Pave   NaN      Reg   \n",
       "2   3          60       RL         68.0    11250   Pave   NaN      IR1   \n",
       "3   4          70       RL         60.0     9550   Pave   NaN      IR1   \n",
       "4   5          60       RL         84.0    14260   Pave   NaN      IR1   \n",
       "\n",
       "  LandContour Utilities  ... PoolArea PoolQC Fence MiscFeature MiscVal MoSold  \\\n",
       "0         Lvl    AllPub  ...        0    NaN   NaN         NaN       0      2   \n",
       "1         Lvl    AllPub  ...        0    NaN   NaN         NaN       0      5   \n",
       "2         Lvl    AllPub  ...        0    NaN   NaN         NaN       0      9   \n",
       "3         Lvl    AllPub  ...        0    NaN   NaN         NaN       0      2   \n",
       "4         Lvl    AllPub  ...        0    NaN   NaN         NaN       0     12   \n",
       "\n",
       "  YrSold  SaleType  SaleCondition  SalePrice  \n",
       "0   2008        WD         Normal     208500  \n",
       "1   2007        WD         Normal     181500  \n",
       "2   2008        WD         Normal     223500  \n",
       "3   2006        WD        Abnorml     140000  \n",
       "4   2008        WD         Normal     250000  \n",
       "\n",
       "[5 rows x 81 columns]"
      ]
     },
     "execution_count": 2,
     "metadata": {},
     "output_type": "execute_result"
    }
   ],
   "source": [
    "df = pd.read_csv(\"/kaggle/input/housepricedataset/house_price_train.csv\")\n",
    "print(df.shape)\n",
    "df.head()"
   ]
  },
  {
   "cell_type": "markdown",
   "id": "547426f7",
   "metadata": {
    "papermill": {
     "duration": 0.003714,
     "end_time": "2025-08-27T17:05:59.025633",
     "exception": false,
     "start_time": "2025-08-27T17:05:59.021919",
     "status": "completed"
    },
    "tags": []
   },
   "source": [
    "**seperate the target variable**"
   ]
  },
  {
   "cell_type": "code",
   "execution_count": 3,
   "id": "59cdf193",
   "metadata": {
    "execution": {
     "iopub.execute_input": "2025-08-27T17:05:59.035357Z",
     "iopub.status.busy": "2025-08-27T17:05:59.034590Z",
     "iopub.status.idle": "2025-08-27T17:05:59.044220Z",
     "shell.execute_reply": "2025-08-27T17:05:59.043380Z"
    },
    "papermill": {
     "duration": 0.016208,
     "end_time": "2025-08-27T17:05:59.045756",
     "exception": false,
     "start_time": "2025-08-27T17:05:59.029548",
     "status": "completed"
    },
    "tags": []
   },
   "outputs": [],
   "source": [
    "X = df.drop('SalePrice', axis=1)\n",
    "y = df['SalePrice']"
   ]
  },
  {
   "cell_type": "markdown",
   "id": "1f1ca60a",
   "metadata": {
    "papermill": {
     "duration": 0.003674,
     "end_time": "2025-08-27T17:05:59.053694",
     "exception": false,
     "start_time": "2025-08-27T17:05:59.050020",
     "status": "completed"
    },
    "tags": []
   },
   "source": [
    "**Step-2:** Clean and standardise data entries for consistency"
   ]
  },
  {
   "cell_type": "code",
   "execution_count": 4,
   "id": "14d5ebb6",
   "metadata": {
    "execution": {
     "iopub.execute_input": "2025-08-27T17:05:59.062977Z",
     "iopub.status.busy": "2025-08-27T17:05:59.062683Z",
     "iopub.status.idle": "2025-08-27T17:05:59.185059Z",
     "shell.execute_reply": "2025-08-27T17:05:59.184031Z"
    },
    "papermill": {
     "duration": 0.129253,
     "end_time": "2025-08-27T17:05:59.186944",
     "exception": false,
     "start_time": "2025-08-27T17:05:59.057691",
     "status": "completed"
    },
    "tags": []
   },
   "outputs": [],
   "source": [
    "#Strip leading/trailing whitespace from string columns\n",
    "for col in X.select_dtypes(include=['object', 'category']).columns:\n",
    "    X[col] = X[col].astype(str).str.strip()  # convert to string first to avoid errors\n",
    "\n",
    "#  Convert text columns to lowercase for consistency\n",
    "for col in X.select_dtypes(include=['object', 'category']).columns:\n",
    "    X[col] = X[col].str.lower()\n",
    "\n",
    "#  Replace common inconsistent entries (example)\n",
    "# You can customize this based on your dataset\n",
    "replace_dict = {\n",
    "    'na': None,\n",
    "    'n/a': None,\n",
    "    'none': None,\n",
    "    '?': None\n",
    "}\n",
    "for col in X.select_dtypes(include=['object', 'category']).columns:\n",
    "    X[col] = X[col].replace(replace_dict)\n",
    "\n",
    "# Remove duplicate rows (if necessary)\n",
    "X = X.drop_duplicates()\n",
    "\n",
    "# 5️Optional: Reset index after dropping duplicates\n",
    "X = X.reset_index(drop=True)\n"
   ]
  },
  {
   "cell_type": "markdown",
   "id": "fc4effae",
   "metadata": {
    "papermill": {
     "duration": 0.003612,
     "end_time": "2025-08-27T17:05:59.194836",
     "exception": false,
     "start_time": "2025-08-27T17:05:59.191224",
     "status": "completed"
    },
    "tags": []
   },
   "source": [
    "**Step-3:** Handling the Null values in the dataset"
   ]
  },
  {
   "cell_type": "code",
   "execution_count": 5,
   "id": "85d64996",
   "metadata": {
    "execution": {
     "iopub.execute_input": "2025-08-27T17:05:59.204201Z",
     "iopub.status.busy": "2025-08-27T17:05:59.203812Z",
     "iopub.status.idle": "2025-08-27T17:05:59.217292Z",
     "shell.execute_reply": "2025-08-27T17:05:59.216145Z"
    },
    "papermill": {
     "duration": 0.020197,
     "end_time": "2025-08-27T17:05:59.218927",
     "exception": false,
     "start_time": "2025-08-27T17:05:59.198730",
     "status": "completed"
    },
    "tags": []
   },
   "outputs": [
    {
     "data": {
      "text/plain": [
       "Id                 0\n",
       "MSSubClass         0\n",
       "MSZoning           0\n",
       "LotFrontage      259\n",
       "LotArea            0\n",
       "                ... \n",
       "MiscVal            0\n",
       "MoSold             0\n",
       "YrSold             0\n",
       "SaleType           0\n",
       "SaleCondition      0\n",
       "Length: 80, dtype: int64"
      ]
     },
     "execution_count": 5,
     "metadata": {},
     "output_type": "execute_result"
    }
   ],
   "source": [
    "X.isnull().sum()"
   ]
  },
  {
   "cell_type": "code",
   "execution_count": 6,
   "id": "1d651212",
   "metadata": {
    "execution": {
     "iopub.execute_input": "2025-08-27T17:05:59.229233Z",
     "iopub.status.busy": "2025-08-27T17:05:59.228874Z",
     "iopub.status.idle": "2025-08-27T17:05:59.283552Z",
     "shell.execute_reply": "2025-08-27T17:05:59.282536Z"
    },
    "papermill": {
     "duration": 0.061435,
     "end_time": "2025-08-27T17:05:59.285416",
     "exception": false,
     "start_time": "2025-08-27T17:05:59.223981",
     "status": "completed"
    },
    "tags": []
   },
   "outputs": [],
   "source": [
    "#Drop the null values if you have more than 30% of Null\n",
    "\n",
    "X.dropna(axis=1, thresh=0.7*len(X), inplace=True)\n",
    "\n",
    "#Fill the null values\n",
    "# Separate numerical and categorical columns\n",
    "numerical_cols = X.select_dtypes(include=['int64', 'float64']).columns\n",
    "categorical_cols = X.select_dtypes(include=['object', 'category']).columns\n",
    "\n",
    "X[numerical_cols] = X[numerical_cols].fillna(X[numerical_cols].median())\n",
    "\n",
    "for col in categorical_cols:\n",
    "    X[col] = X[col].fillna(X[col].mode()[0])\n"
   ]
  },
  {
   "cell_type": "code",
   "execution_count": 7,
   "id": "7e5e0b21",
   "metadata": {
    "execution": {
     "iopub.execute_input": "2025-08-27T17:05:59.294891Z",
     "iopub.status.busy": "2025-08-27T17:05:59.294558Z",
     "iopub.status.idle": "2025-08-27T17:05:59.315719Z",
     "shell.execute_reply": "2025-08-27T17:05:59.314786Z"
    },
    "papermill": {
     "duration": 0.027782,
     "end_time": "2025-08-27T17:05:59.317321",
     "exception": false,
     "start_time": "2025-08-27T17:05:59.289539",
     "status": "completed"
    },
    "tags": []
   },
   "outputs": [
    {
     "data": {
      "text/html": [
       "<div>\n",
       "<style scoped>\n",
       "    .dataframe tbody tr th:only-of-type {\n",
       "        vertical-align: middle;\n",
       "    }\n",
       "\n",
       "    .dataframe tbody tr th {\n",
       "        vertical-align: top;\n",
       "    }\n",
       "\n",
       "    .dataframe thead th {\n",
       "        text-align: right;\n",
       "    }\n",
       "</style>\n",
       "<table border=\"1\" class=\"dataframe\">\n",
       "  <thead>\n",
       "    <tr style=\"text-align: right;\">\n",
       "      <th></th>\n",
       "      <th>Id</th>\n",
       "      <th>MSSubClass</th>\n",
       "      <th>MSZoning</th>\n",
       "      <th>LotFrontage</th>\n",
       "      <th>LotArea</th>\n",
       "      <th>Street</th>\n",
       "      <th>Alley</th>\n",
       "      <th>LotShape</th>\n",
       "      <th>LandContour</th>\n",
       "      <th>Utilities</th>\n",
       "      <th>...</th>\n",
       "      <th>ScreenPorch</th>\n",
       "      <th>PoolArea</th>\n",
       "      <th>PoolQC</th>\n",
       "      <th>Fence</th>\n",
       "      <th>MiscFeature</th>\n",
       "      <th>MiscVal</th>\n",
       "      <th>MoSold</th>\n",
       "      <th>YrSold</th>\n",
       "      <th>SaleType</th>\n",
       "      <th>SaleCondition</th>\n",
       "    </tr>\n",
       "  </thead>\n",
       "  <tbody>\n",
       "    <tr>\n",
       "      <th>0</th>\n",
       "      <td>1</td>\n",
       "      <td>60</td>\n",
       "      <td>rl</td>\n",
       "      <td>65.0</td>\n",
       "      <td>8450</td>\n",
       "      <td>pave</td>\n",
       "      <td>nan</td>\n",
       "      <td>reg</td>\n",
       "      <td>lvl</td>\n",
       "      <td>allpub</td>\n",
       "      <td>...</td>\n",
       "      <td>0</td>\n",
       "      <td>0</td>\n",
       "      <td>nan</td>\n",
       "      <td>nan</td>\n",
       "      <td>nan</td>\n",
       "      <td>0</td>\n",
       "      <td>2</td>\n",
       "      <td>2008</td>\n",
       "      <td>wd</td>\n",
       "      <td>normal</td>\n",
       "    </tr>\n",
       "    <tr>\n",
       "      <th>1</th>\n",
       "      <td>2</td>\n",
       "      <td>20</td>\n",
       "      <td>rl</td>\n",
       "      <td>80.0</td>\n",
       "      <td>9600</td>\n",
       "      <td>pave</td>\n",
       "      <td>nan</td>\n",
       "      <td>reg</td>\n",
       "      <td>lvl</td>\n",
       "      <td>allpub</td>\n",
       "      <td>...</td>\n",
       "      <td>0</td>\n",
       "      <td>0</td>\n",
       "      <td>nan</td>\n",
       "      <td>nan</td>\n",
       "      <td>nan</td>\n",
       "      <td>0</td>\n",
       "      <td>5</td>\n",
       "      <td>2007</td>\n",
       "      <td>wd</td>\n",
       "      <td>normal</td>\n",
       "    </tr>\n",
       "    <tr>\n",
       "      <th>2</th>\n",
       "      <td>3</td>\n",
       "      <td>60</td>\n",
       "      <td>rl</td>\n",
       "      <td>68.0</td>\n",
       "      <td>11250</td>\n",
       "      <td>pave</td>\n",
       "      <td>nan</td>\n",
       "      <td>ir1</td>\n",
       "      <td>lvl</td>\n",
       "      <td>allpub</td>\n",
       "      <td>...</td>\n",
       "      <td>0</td>\n",
       "      <td>0</td>\n",
       "      <td>nan</td>\n",
       "      <td>nan</td>\n",
       "      <td>nan</td>\n",
       "      <td>0</td>\n",
       "      <td>9</td>\n",
       "      <td>2008</td>\n",
       "      <td>wd</td>\n",
       "      <td>normal</td>\n",
       "    </tr>\n",
       "    <tr>\n",
       "      <th>3</th>\n",
       "      <td>4</td>\n",
       "      <td>70</td>\n",
       "      <td>rl</td>\n",
       "      <td>60.0</td>\n",
       "      <td>9550</td>\n",
       "      <td>pave</td>\n",
       "      <td>nan</td>\n",
       "      <td>ir1</td>\n",
       "      <td>lvl</td>\n",
       "      <td>allpub</td>\n",
       "      <td>...</td>\n",
       "      <td>0</td>\n",
       "      <td>0</td>\n",
       "      <td>nan</td>\n",
       "      <td>nan</td>\n",
       "      <td>nan</td>\n",
       "      <td>0</td>\n",
       "      <td>2</td>\n",
       "      <td>2006</td>\n",
       "      <td>wd</td>\n",
       "      <td>abnorml</td>\n",
       "    </tr>\n",
       "    <tr>\n",
       "      <th>4</th>\n",
       "      <td>5</td>\n",
       "      <td>60</td>\n",
       "      <td>rl</td>\n",
       "      <td>84.0</td>\n",
       "      <td>14260</td>\n",
       "      <td>pave</td>\n",
       "      <td>nan</td>\n",
       "      <td>ir1</td>\n",
       "      <td>lvl</td>\n",
       "      <td>allpub</td>\n",
       "      <td>...</td>\n",
       "      <td>0</td>\n",
       "      <td>0</td>\n",
       "      <td>nan</td>\n",
       "      <td>nan</td>\n",
       "      <td>nan</td>\n",
       "      <td>0</td>\n",
       "      <td>12</td>\n",
       "      <td>2008</td>\n",
       "      <td>wd</td>\n",
       "      <td>normal</td>\n",
       "    </tr>\n",
       "  </tbody>\n",
       "</table>\n",
       "<p>5 rows × 80 columns</p>\n",
       "</div>"
      ],
      "text/plain": [
       "   Id  MSSubClass MSZoning  LotFrontage  LotArea Street Alley LotShape  \\\n",
       "0   1          60       rl         65.0     8450   pave   nan      reg   \n",
       "1   2          20       rl         80.0     9600   pave   nan      reg   \n",
       "2   3          60       rl         68.0    11250   pave   nan      ir1   \n",
       "3   4          70       rl         60.0     9550   pave   nan      ir1   \n",
       "4   5          60       rl         84.0    14260   pave   nan      ir1   \n",
       "\n",
       "  LandContour Utilities  ... ScreenPorch PoolArea PoolQC Fence MiscFeature  \\\n",
       "0         lvl    allpub  ...           0        0    nan   nan         nan   \n",
       "1         lvl    allpub  ...           0        0    nan   nan         nan   \n",
       "2         lvl    allpub  ...           0        0    nan   nan         nan   \n",
       "3         lvl    allpub  ...           0        0    nan   nan         nan   \n",
       "4         lvl    allpub  ...           0        0    nan   nan         nan   \n",
       "\n",
       "  MiscVal MoSold  YrSold  SaleType  SaleCondition  \n",
       "0       0      2    2008        wd         normal  \n",
       "1       0      5    2007        wd         normal  \n",
       "2       0      9    2008        wd         normal  \n",
       "3       0      2    2006        wd        abnorml  \n",
       "4       0     12    2008        wd         normal  \n",
       "\n",
       "[5 rows x 80 columns]"
      ]
     },
     "execution_count": 7,
     "metadata": {},
     "output_type": "execute_result"
    }
   ],
   "source": [
    "X.head()"
   ]
  },
  {
   "cell_type": "markdown",
   "id": "679963e0",
   "metadata": {
    "papermill": {
     "duration": 0.004178,
     "end_time": "2025-08-27T17:05:59.326043",
     "exception": false,
     "start_time": "2025-08-27T17:05:59.321865",
     "status": "completed"
    },
    "tags": []
   },
   "source": [
    "**Step-4:** Convert columns to appropriate types (i.e object --> category)"
   ]
  },
  {
   "cell_type": "code",
   "execution_count": 8,
   "id": "ef5f7346",
   "metadata": {
    "execution": {
     "iopub.execute_input": "2025-08-27T17:05:59.335678Z",
     "iopub.status.busy": "2025-08-27T17:05:59.335377Z",
     "iopub.status.idle": "2025-08-27T17:05:59.342138Z",
     "shell.execute_reply": "2025-08-27T17:05:59.341002Z"
    },
    "papermill": {
     "duration": 0.013446,
     "end_time": "2025-08-27T17:05:59.343688",
     "exception": false,
     "start_time": "2025-08-27T17:05:59.330242",
     "status": "completed"
    },
    "tags": []
   },
   "outputs": [
    {
     "name": "stdout",
     "output_type": "stream",
     "text": [
      "Id                 int64\n",
      "MSSubClass         int64\n",
      "MSZoning          object\n",
      "LotFrontage      float64\n",
      "LotArea            int64\n",
      "                  ...   \n",
      "MiscVal            int64\n",
      "MoSold             int64\n",
      "YrSold             int64\n",
      "SaleType          object\n",
      "SaleCondition     object\n",
      "Length: 80, dtype: object\n"
     ]
    }
   ],
   "source": [
    "print(X.dtypes)"
   ]
  },
  {
   "cell_type": "code",
   "execution_count": 9,
   "id": "c5a474fa",
   "metadata": {
    "execution": {
     "iopub.execute_input": "2025-08-27T17:05:59.353917Z",
     "iopub.status.busy": "2025-08-27T17:05:59.353567Z",
     "iopub.status.idle": "2025-08-27T17:05:59.476827Z",
     "shell.execute_reply": "2025-08-27T17:05:59.475843Z"
    },
    "papermill": {
     "duration": 0.130484,
     "end_time": "2025-08-27T17:05:59.478676",
     "exception": false,
     "start_time": "2025-08-27T17:05:59.348192",
     "status": "completed"
    },
    "tags": []
   },
   "outputs": [],
   "source": [
    "import pandas as pd\n",
    "\n",
    "# Convert 'object' columns with few unique values to 'category'\n",
    "for col in X.select_dtypes(include='object').columns:\n",
    "    if X[col].nunique() < 20:  # adjust threshold based on domain knowledge\n",
    "        X[col] = X[col].astype('category')\n",
    "\n",
    "# Convert string columns that look like dates to datetime (if any)\n",
    "date_cols = ['YrSold', 'MoSold']  # Replace with your actual datetime-like columns if any\n",
    "\n",
    "for col in date_cols:\n",
    "    if col in X.columns:\n",
    "        try:\n",
    "            X[col] = pd.to_datetime(X[col])\n",
    "        except Exception:\n",
    "            pass  # Keep original if conversion fails\n",
    "\n",
    "# Fix numeric columns stored as strings (if any)\n",
    "for col in X.select_dtypes(include='object').columns:\n",
    "    try:\n",
    "        X[col] = pd.to_numeric(X[col])\n",
    "    except ValueError:\n",
    "        pass  # Keep original if truly non-numeric\n"
   ]
  },
  {
   "cell_type": "markdown",
   "id": "239c9b7b",
   "metadata": {
    "papermill": {
     "duration": 0.004048,
     "end_time": "2025-08-27T17:05:59.487325",
     "exception": false,
     "start_time": "2025-08-27T17:05:59.483277",
     "status": "completed"
    },
    "tags": []
   },
   "source": [
    "**Step-5:** Outlier Detection and Treatment"
   ]
  },
  {
   "cell_type": "code",
   "execution_count": 10,
   "id": "ec628f28",
   "metadata": {
    "execution": {
     "iopub.execute_input": "2025-08-27T17:05:59.497803Z",
     "iopub.status.busy": "2025-08-27T17:05:59.496791Z",
     "iopub.status.idle": "2025-08-27T17:05:59.636350Z",
     "shell.execute_reply": "2025-08-27T17:05:59.635303Z"
    },
    "papermill": {
     "duration": 0.14648,
     "end_time": "2025-08-27T17:05:59.638014",
     "exception": false,
     "start_time": "2025-08-27T17:05:59.491534",
     "status": "completed"
    },
    "tags": []
   },
   "outputs": [
    {
     "name": "stdout",
     "output_type": "stream",
     "text": [
      "Id: 0 outliers\n",
      "MSSubClass: 103 outliers\n",
      "LotFrontage: 106 outliers\n",
      "LotArea: 69 outliers\n",
      "OverallQual: 2 outliers\n",
      "OverallCond: 125 outliers\n",
      "YearBuilt: 7 outliers\n",
      "YearRemodAdd: 0 outliers\n",
      "MasVnrArea: 98 outliers\n",
      "BsmtFinSF1: 7 outliers\n",
      "BsmtFinSF2: 167 outliers\n",
      "BsmtUnfSF: 29 outliers\n",
      "TotalBsmtSF: 61 outliers\n",
      "1stFlrSF: 20 outliers\n",
      "2ndFlrSF: 2 outliers\n",
      "LowQualFinSF: 26 outliers\n",
      "GrLivArea: 31 outliers\n",
      "BsmtFullBath: 1 outliers\n",
      "BsmtHalfBath: 82 outliers\n",
      "FullBath: 0 outliers\n",
      "HalfBath: 0 outliers\n",
      "BedroomAbvGr: 35 outliers\n",
      "KitchenAbvGr: 68 outliers\n",
      "TotRmsAbvGrd: 30 outliers\n",
      "Fireplaces: 5 outliers\n",
      "GarageYrBlt: 1 outliers\n",
      "GarageCars: 5 outliers\n",
      "GarageArea: 21 outliers\n",
      "WoodDeckSF: 32 outliers\n",
      "OpenPorchSF: 77 outliers\n",
      "EnclosedPorch: 208 outliers\n",
      "3SsnPorch: 24 outliers\n",
      "ScreenPorch: 116 outliers\n",
      "PoolArea: 7 outliers\n",
      "MiscVal: 52 outliers\n"
     ]
    }
   ],
   "source": [
    "import pandas as pd\n",
    "\n",
    "# Identify numerical columns only\n",
    "numeric_cols = X.select_dtypes(include=['int64', 'float64']).columns\n",
    "\n",
    "# Outlier treatment using IQR method\n",
    "for col in numeric_cols:\n",
    "    Q1 = X[col].quantile(0.25)\n",
    "    Q3 = X[col].quantile(0.75)\n",
    "    IQR = Q3 - Q1\n",
    "    lower_bound = Q1 - 1.5 * IQR\n",
    "    upper_bound = Q3 + 1.5 * IQR\n",
    "\n",
    "    # Print number of outliers\n",
    "    outliers = X[(X[col] < lower_bound) | (X[col] > upper_bound)]\n",
    "    print(f\"{col}: {len(outliers)} outliers\")\n",
    "\n",
    "    # Optional: Remove outliers\n",
    "    # X = X[(X[col] >= lower_bound) & (X[col] <= upper_bound)]\n",
    "\n",
    "    # Optional: Cap outliers instead of removing\n",
    "    # X[col] = X[col].clip(lower=lower_bound, upper=upper_bound)\n"
   ]
  },
  {
   "cell_type": "markdown",
   "id": "8de9c117",
   "metadata": {
    "papermill": {
     "duration": 0.004127,
     "end_time": "2025-08-27T17:05:59.646644",
     "exception": false,
     "start_time": "2025-08-27T17:05:59.642517",
     "status": "completed"
    },
    "tags": []
   },
   "source": [
    "**Step-6:** Encode the categorical variables"
   ]
  },
  {
   "cell_type": "code",
   "execution_count": 11,
   "id": "4cd3644c",
   "metadata": {
    "execution": {
     "iopub.execute_input": "2025-08-27T17:05:59.657056Z",
     "iopub.status.busy": "2025-08-27T17:05:59.656266Z",
     "iopub.status.idle": "2025-08-27T17:05:59.685735Z",
     "shell.execute_reply": "2025-08-27T17:05:59.684868Z"
    },
    "papermill": {
     "duration": 0.036485,
     "end_time": "2025-08-27T17:05:59.687512",
     "exception": false,
     "start_time": "2025-08-27T17:05:59.651027",
     "status": "completed"
    },
    "tags": []
   },
   "outputs": [],
   "source": [
    "import pandas as pd\n",
    "\n",
    "# Identify categorical columns\n",
    "cat_cols = X.select_dtypes(include=['object', 'category']).columns\n",
    "\n",
    "# Apply One-Hot Encoding to all categorical columns\n",
    "X_encoded = pd.get_dummies(X, columns=cat_cols, drop_first=True)\n",
    "\n",
    "# Now X_encoded is ready for feature engineering or modeling\n"
   ]
  },
  {
   "cell_type": "code",
   "execution_count": 12,
   "id": "919fa52a",
   "metadata": {
    "execution": {
     "iopub.execute_input": "2025-08-27T17:05:59.697591Z",
     "iopub.status.busy": "2025-08-27T17:05:59.697289Z",
     "iopub.status.idle": "2025-08-27T17:05:59.716172Z",
     "shell.execute_reply": "2025-08-27T17:05:59.715196Z"
    },
    "papermill": {
     "duration": 0.025565,
     "end_time": "2025-08-27T17:05:59.717660",
     "exception": false,
     "start_time": "2025-08-27T17:05:59.692095",
     "status": "completed"
    },
    "tags": []
   },
   "outputs": [
    {
     "data": {
      "text/plain": [
       "<bound method NDFrame.head of         Id  MSSubClass  LotFrontage  LotArea  OverallQual  OverallCond  \\\n",
       "0        1          60         65.0     8450            7            5   \n",
       "1        2          20         80.0     9600            6            8   \n",
       "2        3          60         68.0    11250            7            5   \n",
       "3        4          70         60.0     9550            7            5   \n",
       "4        5          60         84.0    14260            8            5   \n",
       "...    ...         ...          ...      ...          ...          ...   \n",
       "1455  1456          60         62.0     7917            6            5   \n",
       "1456  1457          20         85.0    13175            6            6   \n",
       "1457  1458          70         66.0     9042            7            9   \n",
       "1458  1459          20         68.0     9717            5            6   \n",
       "1459  1460          20         75.0     9937            5            6   \n",
       "\n",
       "      YearBuilt  YearRemodAdd  MasVnrArea  BsmtFinSF1  ...  SaleType_conlw  \\\n",
       "0          2003          2003       196.0         706  ...           False   \n",
       "1          1976          1976         0.0         978  ...           False   \n",
       "2          2001          2002       162.0         486  ...           False   \n",
       "3          1915          1970         0.0         216  ...           False   \n",
       "4          2000          2000       350.0         655  ...           False   \n",
       "...         ...           ...         ...         ...  ...             ...   \n",
       "1455       1999          2000         0.0           0  ...           False   \n",
       "1456       1978          1988       119.0         790  ...           False   \n",
       "1457       1941          2006         0.0         275  ...           False   \n",
       "1458       1950          1996         0.0          49  ...           False   \n",
       "1459       1965          1965         0.0         830  ...           False   \n",
       "\n",
       "      SaleType_cwd  SaleType_new  SaleType_oth  SaleType_wd  \\\n",
       "0            False         False         False         True   \n",
       "1            False         False         False         True   \n",
       "2            False         False         False         True   \n",
       "3            False         False         False         True   \n",
       "4            False         False         False         True   \n",
       "...            ...           ...           ...          ...   \n",
       "1455         False         False         False         True   \n",
       "1456         False         False         False         True   \n",
       "1457         False         False         False         True   \n",
       "1458         False         False         False         True   \n",
       "1459         False         False         False         True   \n",
       "\n",
       "      SaleCondition_adjland  SaleCondition_alloca  SaleCondition_family  \\\n",
       "0                     False                 False                 False   \n",
       "1                     False                 False                 False   \n",
       "2                     False                 False                 False   \n",
       "3                     False                 False                 False   \n",
       "4                     False                 False                 False   \n",
       "...                     ...                   ...                   ...   \n",
       "1455                  False                 False                 False   \n",
       "1456                  False                 False                 False   \n",
       "1457                  False                 False                 False   \n",
       "1458                  False                 False                 False   \n",
       "1459                  False                 False                 False   \n",
       "\n",
       "      SaleCondition_normal  SaleCondition_partial  \n",
       "0                     True                  False  \n",
       "1                     True                  False  \n",
       "2                     True                  False  \n",
       "3                    False                  False  \n",
       "4                     True                  False  \n",
       "...                    ...                    ...  \n",
       "1455                  True                  False  \n",
       "1456                  True                  False  \n",
       "1457                  True                  False  \n",
       "1458                  True                  False  \n",
       "1459                  True                  False  \n",
       "\n",
       "[1460 rows x 261 columns]>"
      ]
     },
     "execution_count": 12,
     "metadata": {},
     "output_type": "execute_result"
    }
   ],
   "source": [
    "X_encoded.head"
   ]
  }
 ],
 "metadata": {
  "kaggle": {
   "accelerator": "none",
   "dataSources": [
    {
     "datasetId": 8018699,
     "sourceId": 12688932,
     "sourceType": "datasetVersion"
    }
   ],
   "dockerImageVersionId": 31089,
   "isGpuEnabled": false,
   "isInternetEnabled": true,
   "language": "python",
   "sourceType": "notebook"
  },
  "kernelspec": {
   "display_name": "Python 3",
   "language": "python",
   "name": "python3"
  },
  "language_info": {
   "codemirror_mode": {
    "name": "ipython",
    "version": 3
   },
   "file_extension": ".py",
   "mimetype": "text/x-python",
   "name": "python",
   "nbconvert_exporter": "python",
   "pygments_lexer": "ipython3",
   "version": "3.11.13"
  },
  "papermill": {
   "default_parameters": {},
   "duration": 9.782938,
   "end_time": "2025-08-27T17:06:00.343309",
   "environment_variables": {},
   "exception": null,
   "input_path": "__notebook__.ipynb",
   "output_path": "__notebook__.ipynb",
   "parameters": {},
   "start_time": "2025-08-27T17:05:50.560371",
   "version": "2.6.0"
  }
 },
 "nbformat": 4,
 "nbformat_minor": 5
}
