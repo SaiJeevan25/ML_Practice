{
 "cells": [
  {
   "cell_type": "markdown",
   "id": "9622e18c",
   "metadata": {
    "papermill": {
     "duration": 0.003911,
     "end_time": "2025-08-27T06:33:50.514591",
     "exception": false,
     "start_time": "2025-08-27T06:33:50.510680",
     "status": "completed"
    },
    "tags": []
   },
   "source": [
    "# Titanic Dataset"
   ]
  },
  {
   "cell_type": "code",
   "execution_count": 1,
   "id": "626bb43c",
   "metadata": {
    "execution": {
     "iopub.execute_input": "2025-08-27T06:33:50.523065Z",
     "iopub.status.busy": "2025-08-27T06:33:50.522647Z",
     "iopub.status.idle": "2025-08-27T06:33:55.988340Z",
     "shell.execute_reply": "2025-08-27T06:33:55.987143Z"
    },
    "papermill": {
     "duration": 5.472126,
     "end_time": "2025-08-27T06:33:55.990372",
     "exception": false,
     "start_time": "2025-08-27T06:33:50.518246",
     "status": "completed"
    },
    "tags": []
   },
   "outputs": [],
   "source": [
    "import pandas as pd\n",
    "import numpy as np\n",
    "import seaborn as sns\n",
    "from sklearn.preprocessing import LabelEncoder\n",
    "from mlxtend.feature_selection import SequentialFeatureSelector as SFS\n",
    "from sklearn.ensemble import RandomForestClassifier\n",
    "from sklearn.feature_selection import RFECV\n",
    "from sklearn.ensemble import RandomForestClassifier\n",
    "from sklearn.model_selection import StratifiedKFold\n",
    "from sklearn.linear_model import Lasso       # L1 for regression\n",
    "from sklearn.linear_model import Ridge       # L2 for regression"
   ]
  },
  {
   "cell_type": "code",
   "execution_count": 2,
   "id": "4307e87f",
   "metadata": {
    "execution": {
     "iopub.execute_input": "2025-08-27T06:33:55.999428Z",
     "iopub.status.busy": "2025-08-27T06:33:55.998902Z",
     "iopub.status.idle": "2025-08-27T06:33:56.048468Z",
     "shell.execute_reply": "2025-08-27T06:33:56.047188Z"
    },
    "papermill": {
     "duration": 0.056259,
     "end_time": "2025-08-27T06:33:56.050357",
     "exception": false,
     "start_time": "2025-08-27T06:33:55.994098",
     "status": "completed"
    },
    "tags": []
   },
   "outputs": [
    {
     "name": "stdout",
     "output_type": "stream",
     "text": [
      "     Pclass        Age  Parch     Fare  Sex_male  Embarked_S  target\n",
      "0         3  22.000000      0   7.2500      True        True       0\n",
      "1         1  38.000000      0  71.2833     False       False       1\n",
      "2         3  26.000000      0   7.9250     False        True       1\n",
      "3         1  35.000000      0  53.1000     False        True       1\n",
      "4         3  35.000000      0   8.0500      True        True       0\n",
      "..      ...        ...    ...      ...       ...         ...     ...\n",
      "886       2  27.000000      0  13.0000      True        True       0\n",
      "887       1  19.000000      0  30.0000     False        True       1\n",
      "888       3  29.699118      2  23.4500     False        True       0\n",
      "889       1  26.000000      0  30.0000      True       False       1\n",
      "890       3  32.000000      0   7.7500      True       False       0\n",
      "\n",
      "[891 rows x 7 columns]\n"
     ]
    }
   ],
   "source": [
    "df = pd.read_csv(\"/kaggle/input/titanic-fs/titanic_fs_dataset (1).csv\")\n",
    "print(df)"
   ]
  },
  {
   "cell_type": "code",
   "execution_count": 3,
   "id": "376ac6b3",
   "metadata": {
    "execution": {
     "iopub.execute_input": "2025-08-27T06:33:56.060396Z",
     "iopub.status.busy": "2025-08-27T06:33:56.060035Z",
     "iopub.status.idle": "2025-08-27T06:33:56.072126Z",
     "shell.execute_reply": "2025-08-27T06:33:56.070066Z"
    },
    "papermill": {
     "duration": 0.020127,
     "end_time": "2025-08-27T06:33:56.074592",
     "exception": false,
     "start_time": "2025-08-27T06:33:56.054465",
     "status": "completed"
    },
    "tags": []
   },
   "outputs": [],
   "source": [
    "X = df.drop('target', axis = 1)\n",
    "y = df['target']"
   ]
  },
  {
   "cell_type": "markdown",
   "id": "5e2b8fc9",
   "metadata": {
    "papermill": {
     "duration": 0.002871,
     "end_time": "2025-08-27T06:33:56.080811",
     "exception": false,
     "start_time": "2025-08-27T06:33:56.077940",
     "status": "completed"
    },
    "tags": []
   },
   "source": [
    "**Forward Selection**"
   ]
  },
  {
   "cell_type": "code",
   "execution_count": 4,
   "id": "c2999149",
   "metadata": {
    "execution": {
     "iopub.execute_input": "2025-08-27T06:33:56.089189Z",
     "iopub.status.busy": "2025-08-27T06:33:56.088844Z",
     "iopub.status.idle": "2025-08-27T06:34:19.272398Z",
     "shell.execute_reply": "2025-08-27T06:34:19.271140Z"
    },
    "papermill": {
     "duration": 23.189869,
     "end_time": "2025-08-27T06:34:19.274051",
     "exception": false,
     "start_time": "2025-08-27T06:33:56.084182",
     "status": "completed"
    },
    "tags": []
   },
   "outputs": [
    {
     "name": "stderr",
     "output_type": "stream",
     "text": [
      "[Parallel(n_jobs=1)]: Done   6 out of   6 | elapsed:    7.2s finished\n",
      "\n",
      "[2025-08-27 06:34:03] Features: 1/5 -- score: 0.7867564534231201[Parallel(n_jobs=1)]: Done   5 out of   5 | elapsed:    5.7s finished\n",
      "\n",
      "[2025-08-27 06:34:09] Features: 2/5 -- score: 0.787878787878788[Parallel(n_jobs=1)]: Done   4 out of   4 | elapsed:    4.5s finished\n",
      "\n",
      "[2025-08-27 06:34:13] Features: 3/5 -- score: 0.7968574635241302[Parallel(n_jobs=1)]: Done   3 out of   3 | elapsed:    3.5s finished\n",
      "\n",
      "[2025-08-27 06:34:16] Features: 4/5 -- score: 0.8013468013468014"
     ]
    },
    {
     "name": "stdout",
     "output_type": "stream",
     "text": [
      "Best accuracy score: 0.7834\n",
      "Best subset (indices): (0, 1, 2, 4, 5)\n",
      "Best subset (names): ('Pclass', 'Age', 'Parch', 'Sex_male', 'Embarked_S')\n"
     ]
    },
    {
     "name": "stderr",
     "output_type": "stream",
     "text": [
      "[Parallel(n_jobs=1)]: Done   2 out of   2 | elapsed:    2.3s finished\n",
      "\n",
      "[2025-08-27 06:34:19] Features: 5/5 -- score: 0.7833894500561168"
     ]
    }
   ],
   "source": [
    "\n",
    "\n",
    "sfs1 = SFS(RandomForestClassifier(n_jobs=4, random_state=42),\n",
    "           k_features=5,\n",
    "           forward=True,\n",
    "           floating=False,\n",
    "           verbose=2,\n",
    "           scoring='accuracy', \n",
    "           cv=3)\n",
    "\n",
    "sfs1 = sfs1.fit(X, y)\n",
    "\n",
    "print('Best accuracy score: %.4f' % sfs1.k_score_)\n",
    "print('Best subset (indices):', sfs1.k_feature_idx_)\n",
    "print('Best subset (names):', sfs1.k_feature_names_)\n",
    "\n",
    "x_forward = X[list(sfs1.k_feature_names_)]\n",
    "\n"
   ]
  },
  {
   "cell_type": "markdown",
   "id": "d37ae3ba",
   "metadata": {
    "papermill": {
     "duration": 0.003942,
     "end_time": "2025-08-27T06:34:19.281779",
     "exception": false,
     "start_time": "2025-08-27T06:34:19.277837",
     "status": "completed"
    },
    "tags": []
   },
   "source": [
    "**Backward Selection**"
   ]
  },
  {
   "cell_type": "code",
   "execution_count": 5,
   "id": "a3f9492c",
   "metadata": {
    "execution": {
     "iopub.execute_input": "2025-08-27T06:34:19.293252Z",
     "iopub.status.busy": "2025-08-27T06:34:19.292944Z",
     "iopub.status.idle": "2025-08-27T06:34:27.599895Z",
     "shell.execute_reply": "2025-08-27T06:34:27.598336Z"
    },
    "papermill": {
     "duration": 8.313254,
     "end_time": "2025-08-27T06:34:27.601494",
     "exception": false,
     "start_time": "2025-08-27T06:34:19.288240",
     "status": "completed"
    },
    "tags": []
   },
   "outputs": [
    {
     "name": "stdout",
     "output_type": "stream",
     "text": [
      "Best precision score: 0.8081\n",
      "Best subset (indices): (0, 1, 2, 3, 4)\n",
      "Best subset (names): ('Pclass', 'Age', 'Parch', 'Fare', 'Sex_male')\n"
     ]
    },
    {
     "name": "stderr",
     "output_type": "stream",
     "text": [
      "[Parallel(n_jobs=1)]: Done   6 out of   6 | elapsed:    7.1s finished\n",
      "\n",
      "[2025-08-27 06:34:27] Features: 5/5 -- score: 0.8080808080808081"
     ]
    }
   ],
   "source": [
    "\n",
    "\n",
    "sfs1 = SFS(RandomForestClassifier(n_jobs=4, random_state=42),\n",
    "           k_features=5,\n",
    "           forward=False,\n",
    "           floating=False,\n",
    "           verbose=2,\n",
    "           scoring='accuracy',\n",
    "           cv=3)\n",
    "\n",
    "sfs1 = sfs1.fit(X, y)\n",
    "\n",
    "print('Best precision score: %.4f' % sfs1.k_score_)\n",
    "print('Best subset (indices):', sfs1.k_feature_idx_)\n",
    "print('Best subset (names):', sfs1.k_feature_names_)\n",
    "x_backward = X[list(sfs1.k_feature_names_)]\n"
   ]
  },
  {
   "cell_type": "markdown",
   "id": "da415ecd",
   "metadata": {
    "papermill": {
     "duration": 0.003189,
     "end_time": "2025-08-27T06:34:27.608281",
     "exception": false,
     "start_time": "2025-08-27T06:34:27.605092",
     "status": "completed"
    },
    "tags": []
   },
   "source": [
    "**Exhaustive Search**"
   ]
  },
  {
   "cell_type": "code",
   "execution_count": 6,
   "id": "a4664245",
   "metadata": {
    "execution": {
     "iopub.execute_input": "2025-08-27T06:34:27.616547Z",
     "iopub.status.busy": "2025-08-27T06:34:27.616249Z",
     "iopub.status.idle": "2025-08-27T06:35:35.054458Z",
     "shell.execute_reply": "2025-08-27T06:35:35.053097Z"
    },
    "papermill": {
     "duration": 67.452188,
     "end_time": "2025-08-27T06:35:35.063779",
     "exception": false,
     "start_time": "2025-08-27T06:34:27.611591",
     "status": "completed"
    },
    "tags": []
   },
   "outputs": [
    {
     "name": "stderr",
     "output_type": "stream",
     "text": [
      "Features: 56/56"
     ]
    },
    {
     "name": "stdout",
     "output_type": "stream",
     "text": [
      "Best precision score: 0.8848\n",
      "Best subset (indices): (0, 4, 5)\n",
      "Best subset (names): ('Pclass', 'Sex_male', 'Embarked_S')\n"
     ]
    }
   ],
   "source": [
    "from mlxtend.feature_selection import ExhaustiveFeatureSelector as EFS\n",
    "from sklearn.ensemble import RandomForestClassifier\n",
    "\n",
    "# Initialize the model\n",
    "clf = RandomForestClassifier(n_jobs=4, random_state=42)\n",
    "\n",
    "# Run Exhaustive Feature Selection\n",
    "efs = EFS(clf,\n",
    "          min_features=2,           \n",
    "          max_features=5,            \n",
    "          scoring='precision',        \n",
    "          print_progress=True, \n",
    "          cv=3,                     \n",
    "          n_jobs=1)                  \n",
    "\n",
    "efs = efs.fit(X, y)\n",
    "\n",
    "print('Best precision score: %.4f' % efs.best_score_)\n",
    "print('Best subset (indices):', efs.best_idx_)\n",
    "print('Best subset (names):', efs.best_feature_names_)\n",
    "\n",
    "X_exhaustive = X[list(efs.best_feature_names_)]\n",
    "\n"
   ]
  },
  {
   "cell_type": "markdown",
   "id": "68bb6aca",
   "metadata": {
    "papermill": {
     "duration": 0.00581,
     "end_time": "2025-08-27T06:35:35.077346",
     "exception": false,
     "start_time": "2025-08-27T06:35:35.071536",
     "status": "completed"
    },
    "tags": []
   },
   "source": [
    "**Recursive Feature Elimination**"
   ]
  },
  {
   "cell_type": "code",
   "execution_count": 7,
   "id": "61c3b7cd",
   "metadata": {
    "execution": {
     "iopub.execute_input": "2025-08-27T06:35:35.091720Z",
     "iopub.status.busy": "2025-08-27T06:35:35.091339Z",
     "iopub.status.idle": "2025-08-27T06:35:41.307418Z",
     "shell.execute_reply": "2025-08-27T06:35:41.306359Z"
    },
    "papermill": {
     "duration": 6.22515,
     "end_time": "2025-08-27T06:35:41.309175",
     "exception": false,
     "start_time": "2025-08-27T06:35:35.084025",
     "status": "completed"
    },
    "tags": []
   },
   "outputs": [
    {
     "name": "stdout",
     "output_type": "stream",
     "text": [
      "Fitting estimator with 6 features.\n",
      "Fitting estimator with 5 features.\n",
      "Optimal number of features: 4\n",
      "Selected feature indices: [0 1 3 4]\n",
      "Selected feature names: ['Pclass', 'Age', 'Fare', 'Sex_male']\n"
     ]
    }
   ],
   "source": [
    "\n",
    "# Step 1: Create the model\n",
    "clf = RandomForestClassifier(n_jobs=4, random_state=42)\n",
    "\n",
    "# Step 2: Initialize RFECV\n",
    "rfecv = RFECV(estimator=clf,\n",
    "              step=1,\n",
    "              cv=StratifiedKFold(3),\n",
    "              scoring='precision',\n",
    "              n_jobs=4,\n",
    "              verbose=2)\n",
    "\n",
    "# Step 3: Fit the selector\n",
    "rfecv.fit(X, y)\n",
    "\n",
    "print(\"Optimal number of features: %d\" % rfecv.n_features_)\n",
    "print(\"Selected feature indices:\", rfecv.support_.nonzero()[0])\n",
    "print(\"Selected feature names:\", X.columns[rfecv.support_].tolist())\n",
    "X_selected_rs = X.loc[:, rfecv.support_]\n"
   ]
  },
  {
   "cell_type": "markdown",
   "id": "01a4e871",
   "metadata": {
    "papermill": {
     "duration": 0.005842,
     "end_time": "2025-08-27T06:35:41.321432",
     "exception": false,
     "start_time": "2025-08-27T06:35:41.315590",
     "status": "completed"
    },
    "tags": []
   },
   "source": [
    "**Lasso L1 Regularization**"
   ]
  },
  {
   "cell_type": "code",
   "execution_count": 8,
   "id": "a8603574",
   "metadata": {
    "execution": {
     "iopub.execute_input": "2025-08-27T06:35:41.335126Z",
     "iopub.status.busy": "2025-08-27T06:35:41.334500Z",
     "iopub.status.idle": "2025-08-27T06:35:41.396930Z",
     "shell.execute_reply": "2025-08-27T06:35:41.395567Z"
    },
    "papermill": {
     "duration": 0.07125,
     "end_time": "2025-08-27T06:35:41.398682",
     "exception": false,
     "start_time": "2025-08-27T06:35:41.327432",
     "status": "completed"
    },
    "tags": []
   },
   "outputs": [
    {
     "name": "stdout",
     "output_type": "stream",
     "text": [
      "LASSO selected features: ['Pclass', 'Age', 'Parch', 'Fare', 'Sex_male', 'Embarked_S']\n"
     ]
    }
   ],
   "source": [
    "lasso = Lasso(alpha=0.01)\n",
    "lasso.fit(X, y)\n",
    "\n",
    "selected_lasso = X.columns[(lasso.coef_ != 0)]\n",
    "print(\"LASSO selected features:\", list(selected_lasso))\n"
   ]
  },
  {
   "cell_type": "code",
   "execution_count": 9,
   "id": "1620a0c6",
   "metadata": {
    "execution": {
     "iopub.execute_input": "2025-08-27T06:35:41.412960Z",
     "iopub.status.busy": "2025-08-27T06:35:41.412567Z",
     "iopub.status.idle": "2025-08-27T06:35:41.466063Z",
     "shell.execute_reply": "2025-08-27T06:35:41.465006Z"
    },
    "papermill": {
     "duration": 0.062755,
     "end_time": "2025-08-27T06:35:41.467850",
     "exception": false,
     "start_time": "2025-08-27T06:35:41.405095",
     "status": "completed"
    },
    "tags": []
   },
   "outputs": [
    {
     "name": "stdout",
     "output_type": "stream",
     "text": [
      "RIDGE selected features:  ['Fare']\n"
     ]
    }
   ],
   "source": [
    "from sklearn.linear_model import Ridge\n",
    "\n",
    "# Train Ridge model (L2 regularized regression)\n",
    "ridge = Ridge(alpha=0.01)\n",
    "ridge.fit(X, y)\n",
    "\n",
    "# Get features with non-zero positive coefficients\n",
    "selected_ridge = X.columns[ridge.coef_ > 0]\n",
    "\n",
    "print(\"RIDGE selected features: \", list(selected_ridge))\n"
   ]
  }
 ],
 "metadata": {
  "kaggle": {
   "accelerator": "none",
   "dataSources": [
    {
     "datasetId": 8150331,
     "sourceId": 12882615,
     "sourceType": "datasetVersion"
    }
   ],
   "dockerImageVersionId": 31091,
   "isGpuEnabled": false,
   "isInternetEnabled": false,
   "language": "python",
   "sourceType": "notebook"
  },
  "kernelspec": {
   "display_name": "Python 3",
   "language": "python",
   "name": "python3"
  },
  "language_info": {
   "codemirror_mode": {
    "name": "ipython",
    "version": 3
   },
   "file_extension": ".py",
   "mimetype": "text/x-python",
   "name": "python",
   "nbconvert_exporter": "python",
   "pygments_lexer": "ipython3",
   "version": "3.11.13"
  },
  "papermill": {
   "default_parameters": {},
   "duration": 119.571278,
   "end_time": "2025-08-27T06:35:44.097034",
   "environment_variables": {},
   "exception": null,
   "input_path": "__notebook__.ipynb",
   "output_path": "__notebook__.ipynb",
   "parameters": {},
   "start_time": "2025-08-27T06:33:44.525756",
   "version": "2.6.0"
  }
 },
 "nbformat": 4,
 "nbformat_minor": 5
}
