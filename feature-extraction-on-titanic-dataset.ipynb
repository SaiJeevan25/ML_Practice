{
 "cells": [
  {
   "cell_type": "markdown",
   "id": "60411c72",
   "metadata": {
    "papermill": {
     "duration": 0.003388,
     "end_time": "2025-08-27T11:00:22.210300",
     "exception": false,
     "start_time": "2025-08-27T11:00:22.206912",
     "status": "completed"
    },
    "tags": []
   },
   "source": [
    "# Titanic Dataset"
   ]
  },
  {
   "cell_type": "code",
   "execution_count": 1,
   "id": "d9b9d7fa",
   "metadata": {
    "execution": {
     "iopub.execute_input": "2025-08-27T11:00:22.216855Z",
     "iopub.status.busy": "2025-08-27T11:00:22.216487Z",
     "iopub.status.idle": "2025-08-27T11:00:27.110268Z",
     "shell.execute_reply": "2025-08-27T11:00:27.109156Z"
    },
    "papermill": {
     "duration": 4.899024,
     "end_time": "2025-08-27T11:00:27.111919",
     "exception": false,
     "start_time": "2025-08-27T11:00:22.212895",
     "status": "completed"
    },
    "tags": []
   },
   "outputs": [],
   "source": [
    "import pandas as pd\n",
    "import numpy as np\n",
    "import seaborn as sns\n",
    "from sklearn.preprocessing import LabelEncoder\n",
    "from mlxtend.feature_selection import SequentialFeatureSelector as SFS\n",
    "from sklearn.ensemble import RandomForestClassifier\n",
    "from mlxtend.feature_selection import ExhaustiveFeatureSelector as EFS\n",
    "from sklearn.ensemble import RandomForestClassifier\n",
    "from sklearn.feature_selection import RFECV\n",
    "from sklearn.ensemble import RandomForestClassifier\n",
    "from sklearn.model_selection import StratifiedKFold\n",
    "from sklearn.linear_model import Lasso  \n",
    "from sklearn.linear_model import Ridge       \n",
    "from sklearn.linear_model import ElasticNet"
   ]
  },
  {
   "cell_type": "markdown",
   "id": "19e0e705",
   "metadata": {
    "papermill": {
     "duration": 0.002249,
     "end_time": "2025-08-27T11:00:27.117283",
     "exception": false,
     "start_time": "2025-08-27T11:00:27.115034",
     "status": "completed"
    },
    "tags": []
   },
   "source": [
    "**Importing the dataset where Feature selection was made**"
   ]
  },
  {
   "cell_type": "code",
   "execution_count": 2,
   "id": "7f0ba20a",
   "metadata": {
    "execution": {
     "iopub.execute_input": "2025-08-27T11:00:27.123440Z",
     "iopub.status.busy": "2025-08-27T11:00:27.123066Z",
     "iopub.status.idle": "2025-08-27T11:00:27.172548Z",
     "shell.execute_reply": "2025-08-27T11:00:27.171251Z"
    },
    "papermill": {
     "duration": 0.054348,
     "end_time": "2025-08-27T11:00:27.174160",
     "exception": false,
     "start_time": "2025-08-27T11:00:27.119812",
     "status": "completed"
    },
    "tags": []
   },
   "outputs": [
    {
     "name": "stdout",
     "output_type": "stream",
     "text": [
      "     Pclass        Age  Parch     Fare  Sex_male  Embarked_S  target\n",
      "0         3  22.000000      0   7.2500      True        True       0\n",
      "1         1  38.000000      0  71.2833     False       False       1\n",
      "2         3  26.000000      0   7.9250     False        True       1\n",
      "3         1  35.000000      0  53.1000     False        True       1\n",
      "4         3  35.000000      0   8.0500      True        True       0\n",
      "..      ...        ...    ...      ...       ...         ...     ...\n",
      "886       2  27.000000      0  13.0000      True        True       0\n",
      "887       1  19.000000      0  30.0000     False        True       1\n",
      "888       3  29.699118      2  23.4500     False        True       0\n",
      "889       1  26.000000      0  30.0000      True       False       1\n",
      "890       3  32.000000      0   7.7500      True       False       0\n",
      "\n",
      "[891 rows x 7 columns]\n"
     ]
    }
   ],
   "source": [
    "df = pd.read_csv(\"/kaggle/input/titanic-fs/titanic_fs_dataset (1).csv\")\n",
    "print(df)"
   ]
  },
  {
   "cell_type": "code",
   "execution_count": 3,
   "id": "995af6bc",
   "metadata": {
    "execution": {
     "iopub.execute_input": "2025-08-27T11:00:27.180933Z",
     "iopub.status.busy": "2025-08-27T11:00:27.180584Z",
     "iopub.status.idle": "2025-08-27T11:00:27.188921Z",
     "shell.execute_reply": "2025-08-27T11:00:27.187777Z"
    },
    "papermill": {
     "duration": 0.013119,
     "end_time": "2025-08-27T11:00:27.190367",
     "exception": false,
     "start_time": "2025-08-27T11:00:27.177248",
     "status": "completed"
    },
    "tags": []
   },
   "outputs": [],
   "source": [
    "X = df.drop('target', axis = 1)\n",
    "y = df['target']"
   ]
  },
  {
   "cell_type": "markdown",
   "id": "a9c0f100",
   "metadata": {
    "papermill": {
     "duration": 0.002333,
     "end_time": "2025-08-27T11:00:27.195516",
     "exception": false,
     "start_time": "2025-08-27T11:00:27.193183",
     "status": "completed"
    },
    "tags": []
   },
   "source": [
    "# Wrapper Methods"
   ]
  },
  {
   "cell_type": "markdown",
   "id": "695efd30",
   "metadata": {
    "papermill": {
     "duration": 0.002202,
     "end_time": "2025-08-27T11:00:27.200228",
     "exception": false,
     "start_time": "2025-08-27T11:00:27.198026",
     "status": "completed"
    },
    "tags": []
   },
   "source": [
    "**Forward Selection**"
   ]
  },
  {
   "cell_type": "code",
   "execution_count": 4,
   "id": "bffee79a",
   "metadata": {
    "execution": {
     "iopub.execute_input": "2025-08-27T11:00:27.206313Z",
     "iopub.status.busy": "2025-08-27T11:00:27.206025Z",
     "iopub.status.idle": "2025-08-27T11:00:45.277682Z",
     "shell.execute_reply": "2025-08-27T11:00:45.276618Z"
    },
    "papermill": {
     "duration": 18.076241,
     "end_time": "2025-08-27T11:00:45.278840",
     "exception": false,
     "start_time": "2025-08-27T11:00:27.202599",
     "status": "completed"
    },
    "tags": []
   },
   "outputs": [
    {
     "name": "stderr",
     "output_type": "stream",
     "text": [
      "[Parallel(n_jobs=1)]: Done   6 out of   6 | elapsed:    5.3s finished\n",
      "\n",
      "[2025-08-27 11:00:32] Features: 1/5 -- score: 0.7867564534231201[Parallel(n_jobs=1)]: Done   5 out of   5 | elapsed:    4.6s finished\n",
      "\n",
      "[2025-08-27 11:00:37] Features: 2/5 -- score: 0.787878787878788[Parallel(n_jobs=1)]: Done   4 out of   4 | elapsed:    3.6s finished\n",
      "\n",
      "[2025-08-27 11:00:40] Features: 3/5 -- score: 0.7968574635241302[Parallel(n_jobs=1)]: Done   3 out of   3 | elapsed:    2.7s finished\n",
      "\n",
      "[2025-08-27 11:00:43] Features: 4/5 -- score: 0.8013468013468014"
     ]
    },
    {
     "name": "stdout",
     "output_type": "stream",
     "text": [
      "Best accuracy score: 0.7834\n",
      "Best subset (indices): (0, 1, 2, 4, 5)\n",
      "Best subset (names): ('Pclass', 'Age', 'Parch', 'Sex_male', 'Embarked_S')\n"
     ]
    },
    {
     "name": "stderr",
     "output_type": "stream",
     "text": [
      "[Parallel(n_jobs=1)]: Done   2 out of   2 | elapsed:    1.9s finished\n",
      "\n",
      "[2025-08-27 11:00:45] Features: 5/5 -- score: 0.7833894500561168"
     ]
    }
   ],
   "source": [
    "\n",
    "\n",
    "sfs1 = SFS(RandomForestClassifier(n_jobs=4, random_state=42),\n",
    "           k_features=5,\n",
    "           forward=True,\n",
    "           floating=False,\n",
    "           verbose=2,\n",
    "           scoring='accuracy', \n",
    "           cv=3)\n",
    "\n",
    "sfs1 = sfs1.fit(X, y)\n",
    "\n",
    "print('Best accuracy score: %.4f' % sfs1.k_score_)\n",
    "print('Best subset (indices):', sfs1.k_feature_idx_)\n",
    "print('Best subset (names):', sfs1.k_feature_names_)\n",
    "\n",
    "x_forward = X[list(sfs1.k_feature_names_)]\n",
    "\n"
   ]
  },
  {
   "cell_type": "markdown",
   "id": "16f7587b",
   "metadata": {
    "papermill": {
     "duration": 0.002593,
     "end_time": "2025-08-27T11:00:45.284877",
     "exception": false,
     "start_time": "2025-08-27T11:00:45.282284",
     "status": "completed"
    },
    "tags": []
   },
   "source": [
    "**Backward Selection**"
   ]
  },
  {
   "cell_type": "code",
   "execution_count": 5,
   "id": "05765947",
   "metadata": {
    "execution": {
     "iopub.execute_input": "2025-08-27T11:00:45.292405Z",
     "iopub.status.busy": "2025-08-27T11:00:45.292144Z",
     "iopub.status.idle": "2025-08-27T11:00:52.047408Z",
     "shell.execute_reply": "2025-08-27T11:00:52.046600Z"
    },
    "papermill": {
     "duration": 6.761073,
     "end_time": "2025-08-27T11:00:52.048637",
     "exception": false,
     "start_time": "2025-08-27T11:00:45.287564",
     "status": "completed"
    },
    "tags": []
   },
   "outputs": [
    {
     "name": "stdout",
     "output_type": "stream",
     "text": [
      "Best precision score: 0.8081\n",
      "Best subset (indices): (0, 1, 2, 3, 4)\n",
      "Best subset (names): ('Pclass', 'Age', 'Parch', 'Fare', 'Sex_male')\n"
     ]
    },
    {
     "name": "stderr",
     "output_type": "stream",
     "text": [
      "[Parallel(n_jobs=1)]: Done   6 out of   6 | elapsed:    5.8s finished\n",
      "\n",
      "[2025-08-27 11:00:52] Features: 5/5 -- score: 0.8080808080808081"
     ]
    }
   ],
   "source": [
    "\n",
    "\n",
    "sfs1 = SFS(RandomForestClassifier(n_jobs=4, random_state=42),\n",
    "           k_features=5,\n",
    "           forward=False,\n",
    "           floating=False,\n",
    "           verbose=2,\n",
    "           scoring='accuracy',\n",
    "           cv=3)\n",
    "\n",
    "sfs1 = sfs1.fit(X, y)\n",
    "\n",
    "print('Best precision score: %.4f' % sfs1.k_score_)\n",
    "print('Best subset (indices):', sfs1.k_feature_idx_)\n",
    "print('Best subset (names):', sfs1.k_feature_names_)\n",
    "x_backward = X[list(sfs1.k_feature_names_)]\n"
   ]
  },
  {
   "cell_type": "markdown",
   "id": "ee2c3a2a",
   "metadata": {
    "papermill": {
     "duration": 0.002706,
     "end_time": "2025-08-27T11:00:52.054540",
     "exception": false,
     "start_time": "2025-08-27T11:00:52.051834",
     "status": "completed"
    },
    "tags": []
   },
   "source": [
    "**Exhaustive Search**"
   ]
  },
  {
   "cell_type": "code",
   "execution_count": 6,
   "id": "7df168a7",
   "metadata": {
    "execution": {
     "iopub.execute_input": "2025-08-27T11:00:52.061940Z",
     "iopub.status.busy": "2025-08-27T11:00:52.061658Z",
     "iopub.status.idle": "2025-08-27T11:01:45.258750Z",
     "shell.execute_reply": "2025-08-27T11:01:45.256603Z"
    },
    "papermill": {
     "duration": 53.203082,
     "end_time": "2025-08-27T11:01:45.260491",
     "exception": false,
     "start_time": "2025-08-27T11:00:52.057409",
     "status": "completed"
    },
    "tags": []
   },
   "outputs": [
    {
     "name": "stderr",
     "output_type": "stream",
     "text": [
      "Features: 56/56"
     ]
    },
    {
     "name": "stdout",
     "output_type": "stream",
     "text": [
      "Best precision score: 0.8848\n",
      "Best subset (indices): (0, 4, 5)\n",
      "Best subset (names): ('Pclass', 'Sex_male', 'Embarked_S')\n"
     ]
    }
   ],
   "source": [
    "# Initialize the model\n",
    "clf = RandomForestClassifier(n_jobs=4, random_state=42)\n",
    "\n",
    "# Run Exhaustive Feature Selection\n",
    "efs = EFS(clf,\n",
    "          min_features=2,           \n",
    "          max_features=5,            \n",
    "          scoring='precision',        \n",
    "          print_progress=True, \n",
    "          cv=3,                     \n",
    "          n_jobs=1)                  \n",
    "\n",
    "efs = efs.fit(X, y)\n",
    "\n",
    "print('Best precision score: %.4f' % efs.best_score_)\n",
    "print('Best subset (indices):', efs.best_idx_)\n",
    "print('Best subset (names):', efs.best_feature_names_)\n",
    "\n",
    "X_exhaustive = X[list(efs.best_feature_names_)]\n",
    "\n"
   ]
  },
  {
   "cell_type": "markdown",
   "id": "8e1857f1",
   "metadata": {
    "papermill": {
     "duration": 0.004791,
     "end_time": "2025-08-27T11:01:45.270873",
     "exception": false,
     "start_time": "2025-08-27T11:01:45.266082",
     "status": "completed"
    },
    "tags": []
   },
   "source": [
    "**Recursive Feature Elimination**"
   ]
  },
  {
   "cell_type": "code",
   "execution_count": 7,
   "id": "bd1a89d6",
   "metadata": {
    "execution": {
     "iopub.execute_input": "2025-08-27T11:01:45.283117Z",
     "iopub.status.busy": "2025-08-27T11:01:45.282755Z",
     "iopub.status.idle": "2025-08-27T11:01:49.787692Z",
     "shell.execute_reply": "2025-08-27T11:01:49.786597Z"
    },
    "papermill": {
     "duration": 4.513436,
     "end_time": "2025-08-27T11:01:49.789231",
     "exception": false,
     "start_time": "2025-08-27T11:01:45.275795",
     "status": "completed"
    },
    "tags": []
   },
   "outputs": [
    {
     "name": "stdout",
     "output_type": "stream",
     "text": [
      "Fitting estimator with 6 features.\n",
      "Fitting estimator with 5 features.\n",
      "Optimal number of features: 4\n",
      "Selected feature indices: [0 1 3 4]\n",
      "Selected feature names: ['Pclass', 'Age', 'Fare', 'Sex_male']\n"
     ]
    }
   ],
   "source": [
    "\n",
    "# Step 1: Create the model\n",
    "clf = RandomForestClassifier(n_jobs=4, random_state=42)\n",
    "\n",
    "# Step 2: Initialize RFECV\n",
    "rfecv = RFECV(estimator=clf,\n",
    "              step=1,\n",
    "              cv=StratifiedKFold(3),\n",
    "              scoring='precision',\n",
    "              n_jobs=4,\n",
    "              verbose=2)\n",
    "\n",
    "# Step 3: Fit the selector\n",
    "rfecv.fit(X, y)\n",
    "\n",
    "print(\"Optimal number of features: %d\" % rfecv.n_features_)\n",
    "print(\"Selected feature indices:\", rfecv.support_.nonzero()[0])\n",
    "print(\"Selected feature names:\", X.columns[rfecv.support_].tolist())\n",
    "X_selected_rs = X.loc[:, rfecv.support_]\n"
   ]
  },
  {
   "cell_type": "markdown",
   "id": "019b4cba",
   "metadata": {
    "papermill": {
     "duration": 0.004982,
     "end_time": "2025-08-27T11:01:49.799968",
     "exception": false,
     "start_time": "2025-08-27T11:01:49.794986",
     "status": "completed"
    },
    "tags": []
   },
   "source": [
    "# Embedded Methods"
   ]
  },
  {
   "cell_type": "markdown",
   "id": "9bfc0733",
   "metadata": {
    "papermill": {
     "duration": 0.004649,
     "end_time": "2025-08-27T11:01:49.809497",
     "exception": false,
     "start_time": "2025-08-27T11:01:49.804848",
     "status": "completed"
    },
    "tags": []
   },
   "source": [
    "**Lasso L1 Regularization**"
   ]
  },
  {
   "cell_type": "code",
   "execution_count": 8,
   "id": "8b2c24e4",
   "metadata": {
    "execution": {
     "iopub.execute_input": "2025-08-27T11:01:49.821148Z",
     "iopub.status.busy": "2025-08-27T11:01:49.820850Z",
     "iopub.status.idle": "2025-08-27T11:01:49.843836Z",
     "shell.execute_reply": "2025-08-27T11:01:49.843064Z"
    },
    "papermill": {
     "duration": 0.030482,
     "end_time": "2025-08-27T11:01:49.845040",
     "exception": false,
     "start_time": "2025-08-27T11:01:49.814558",
     "status": "completed"
    },
    "tags": []
   },
   "outputs": [
    {
     "name": "stdout",
     "output_type": "stream",
     "text": [
      "LASSO selected features: ['Pclass', 'Age', 'Parch', 'Fare', 'Sex_male', 'Embarked_S']\n"
     ]
    }
   ],
   "source": [
    "lasso = Lasso(alpha=0.01)\n",
    "lasso.fit(X, y)\n",
    "\n",
    "selected_lasso = X.columns[(lasso.coef_ != 0)]\n",
    "print(\"LASSO selected features:\", list(selected_lasso))\n"
   ]
  },
  {
   "cell_type": "markdown",
   "id": "daddb68d",
   "metadata": {
    "papermill": {
     "duration": 0.005326,
     "end_time": "2025-08-27T11:01:49.855883",
     "exception": false,
     "start_time": "2025-08-27T11:01:49.850557",
     "status": "completed"
    },
    "tags": []
   },
   "source": [
    "**L2 Ridge Regularization**"
   ]
  },
  {
   "cell_type": "code",
   "execution_count": 9,
   "id": "19fd04bc",
   "metadata": {
    "execution": {
     "iopub.execute_input": "2025-08-27T11:01:49.867136Z",
     "iopub.status.busy": "2025-08-27T11:01:49.866401Z",
     "iopub.status.idle": "2025-08-27T11:01:49.924215Z",
     "shell.execute_reply": "2025-08-27T11:01:49.923322Z"
    },
    "papermill": {
     "duration": 0.064915,
     "end_time": "2025-08-27T11:01:49.925578",
     "exception": false,
     "start_time": "2025-08-27T11:01:49.860663",
     "status": "completed"
    },
    "tags": []
   },
   "outputs": [
    {
     "name": "stdout",
     "output_type": "stream",
     "text": [
      "RIDGE selected features:  ['Fare']\n"
     ]
    }
   ],
   "source": [
    "from sklearn.linear_model import Ridge\n",
    "\n",
    "ridge = Ridge(alpha=0.01)\n",
    "ridge.fit(X, y)\n",
    "\n",
    "selected_ridge = X.columns[ridge.coef_ > 0]\n",
    "\n",
    "print(\"RIDGE selected features: \", list(selected_ridge))\n"
   ]
  },
  {
   "cell_type": "markdown",
   "id": "2da69958",
   "metadata": {
    "papermill": {
     "duration": 0.00489,
     "end_time": "2025-08-27T11:01:49.936221",
     "exception": false,
     "start_time": "2025-08-27T11:01:49.931331",
     "status": "completed"
    },
    "tags": []
   },
   "source": [
    "**L1/L2 Regularization Elastic Net**"
   ]
  },
  {
   "cell_type": "code",
   "execution_count": 10,
   "id": "605c1bcb",
   "metadata": {
    "execution": {
     "iopub.execute_input": "2025-08-27T11:01:49.947042Z",
     "iopub.status.busy": "2025-08-27T11:01:49.946694Z",
     "iopub.status.idle": "2025-08-27T11:01:49.955786Z",
     "shell.execute_reply": "2025-08-27T11:01:49.955127Z"
    },
    "papermill": {
     "duration": 0.016216,
     "end_time": "2025-08-27T11:01:49.957186",
     "exception": false,
     "start_time": "2025-08-27T11:01:49.940970",
     "status": "completed"
    },
    "tags": []
   },
   "outputs": [
    {
     "name": "stdout",
     "output_type": "stream",
     "text": [
      "Elastic Net selected features: ['Pclass', 'Age', 'Parch', 'Fare', 'Sex_male', 'Embarked_S']\n"
     ]
    }
   ],
   "source": [
    "elastic_net = ElasticNet(alpha=0.02, l1_ratio=0.5, random_state=42)\n",
    "\n",
    "elastic_net.fit(X, y)\n",
    "\n",
    "selected_elastic = X.columns[elastic_net.coef_ != 0]\n",
    "\n",
    "print(\"Elastic Net selected features:\", list(selected_elastic))\n"
   ]
  }
 ],
 "metadata": {
  "kaggle": {
   "accelerator": "none",
   "dataSources": [
    {
     "datasetId": 8150331,
     "sourceId": 12882615,
     "sourceType": "datasetVersion"
    }
   ],
   "dockerImageVersionId": 31091,
   "isGpuEnabled": false,
   "isInternetEnabled": false,
   "language": "python",
   "sourceType": "notebook"
  },
  "kernelspec": {
   "display_name": "Python 3",
   "language": "python",
   "name": "python3"
  },
  "language_info": {
   "codemirror_mode": {
    "name": "ipython",
    "version": 3
   },
   "file_extension": ".py",
   "mimetype": "text/x-python",
   "name": "python",
   "nbconvert_exporter": "python",
   "pygments_lexer": "ipython3",
   "version": "3.11.13"
  },
  "papermill": {
   "default_parameters": {},
   "duration": 95.849569,
   "end_time": "2025-08-27T11:01:52.583821",
   "environment_variables": {},
   "exception": null,
   "input_path": "__notebook__.ipynb",
   "output_path": "__notebook__.ipynb",
   "parameters": {},
   "start_time": "2025-08-27T11:00:16.734252",
   "version": "2.6.0"
  }
 },
 "nbformat": 4,
 "nbformat_minor": 5
}
