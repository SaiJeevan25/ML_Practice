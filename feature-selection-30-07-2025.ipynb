{
 "cells": [
  {
   "cell_type": "markdown",
   "id": "37db0bfe",
   "metadata": {
    "papermill": {
     "duration": 0.002727,
     "end_time": "2025-07-31T14:36:30.801637",
     "exception": false,
     "start_time": "2025-07-31T14:36:30.798910",
     "status": "completed"
    },
    "tags": []
   },
   "source": [
    "# **Adult Income Dataset – Feature Analysis Notebook** \n",
    "This notebook explores the UCI Adult Income Dataset, which predicts whether a person earns more than $50K a year based on demographic and work-related attributes.\n",
    "\n",
    "In this notebook, we will:\n",
    "\n",
    "* Load and clean the dataset (handle missing values like ?)\n",
    "* Identify Constant Features (columns with the same value throughout)\n",
    "* Identify Quasi-Constant Features (columns with ~99% same values)\n",
    "* Perform Correlation Analysis (to see relationships between numeric features)\n",
    "* Calculate Mutual Information (MI) (to find which features are most useful for predicting income)"
   ]
  },
  {
   "cell_type": "markdown",
   "id": "dbd610c7",
   "metadata": {
    "papermill": {
     "duration": 0.001915,
     "end_time": "2025-07-31T14:36:30.806030",
     "exception": false,
     "start_time": "2025-07-31T14:36:30.804115",
     "status": "completed"
    },
    "tags": []
   },
   "source": [
    "**Step 1: Upload Data into Kaggle Notebook**"
   ]
  },
  {
   "cell_type": "code",
   "execution_count": 1,
   "id": "e14c3fd1",
   "metadata": {
    "execution": {
     "iopub.execute_input": "2025-07-31T14:36:30.810921Z",
     "iopub.status.busy": "2025-07-31T14:36:30.810688Z",
     "iopub.status.idle": "2025-07-31T14:36:33.531703Z",
     "shell.execute_reply": "2025-07-31T14:36:33.531099Z"
    },
    "papermill": {
     "duration": 2.724986,
     "end_time": "2025-07-31T14:36:33.533104",
     "exception": false,
     "start_time": "2025-07-31T14:36:30.808118",
     "status": "completed"
    },
    "tags": []
   },
   "outputs": [],
   "source": [
    "import pandas as pd\n",
    "import numpy as np\n",
    "from sklearn.model_selection import train_test_split"
   ]
  },
  {
   "cell_type": "code",
   "execution_count": 2,
   "id": "09a16789",
   "metadata": {
    "execution": {
     "iopub.execute_input": "2025-07-31T14:36:33.538913Z",
     "iopub.status.busy": "2025-07-31T14:36:33.538557Z",
     "iopub.status.idle": "2025-07-31T14:36:33.754696Z",
     "shell.execute_reply": "2025-07-31T14:36:33.753946Z"
    },
    "papermill": {
     "duration": 0.220451,
     "end_time": "2025-07-31T14:36:33.756146",
     "exception": false,
     "start_time": "2025-07-31T14:36:33.535695",
     "status": "completed"
    },
    "tags": []
   },
   "outputs": [
    {
     "data": {
      "text/html": [
       "<div>\n",
       "<style scoped>\n",
       "    .dataframe tbody tr th:only-of-type {\n",
       "        vertical-align: middle;\n",
       "    }\n",
       "\n",
       "    .dataframe tbody tr th {\n",
       "        vertical-align: top;\n",
       "    }\n",
       "\n",
       "    .dataframe thead th {\n",
       "        text-align: right;\n",
       "    }\n",
       "</style>\n",
       "<table border=\"1\" class=\"dataframe\">\n",
       "  <thead>\n",
       "    <tr style=\"text-align: right;\">\n",
       "      <th></th>\n",
       "      <th>age</th>\n",
       "      <th>workclass</th>\n",
       "      <th>fnlwgt</th>\n",
       "      <th>education</th>\n",
       "      <th>education_num</th>\n",
       "      <th>marital_status</th>\n",
       "      <th>occupation</th>\n",
       "      <th>relationship</th>\n",
       "      <th>race</th>\n",
       "      <th>sex</th>\n",
       "      <th>capital_gain</th>\n",
       "      <th>capital_loss</th>\n",
       "      <th>hours_per_week</th>\n",
       "      <th>native_country</th>\n",
       "      <th>income</th>\n",
       "    </tr>\n",
       "  </thead>\n",
       "  <tbody>\n",
       "    <tr>\n",
       "      <th>0</th>\n",
       "      <td>39</td>\n",
       "      <td>State-gov</td>\n",
       "      <td>77516</td>\n",
       "      <td>Bachelors</td>\n",
       "      <td>13</td>\n",
       "      <td>Never-married</td>\n",
       "      <td>Adm-clerical</td>\n",
       "      <td>Not-in-family</td>\n",
       "      <td>White</td>\n",
       "      <td>Male</td>\n",
       "      <td>2174</td>\n",
       "      <td>0</td>\n",
       "      <td>40</td>\n",
       "      <td>United-States</td>\n",
       "      <td>&lt;=50K</td>\n",
       "    </tr>\n",
       "    <tr>\n",
       "      <th>1</th>\n",
       "      <td>50</td>\n",
       "      <td>Self-emp-not-inc</td>\n",
       "      <td>83311</td>\n",
       "      <td>Bachelors</td>\n",
       "      <td>13</td>\n",
       "      <td>Married-civ-spouse</td>\n",
       "      <td>Exec-managerial</td>\n",
       "      <td>Husband</td>\n",
       "      <td>White</td>\n",
       "      <td>Male</td>\n",
       "      <td>0</td>\n",
       "      <td>0</td>\n",
       "      <td>13</td>\n",
       "      <td>United-States</td>\n",
       "      <td>&lt;=50K</td>\n",
       "    </tr>\n",
       "    <tr>\n",
       "      <th>2</th>\n",
       "      <td>38</td>\n",
       "      <td>Private</td>\n",
       "      <td>215646</td>\n",
       "      <td>HS-grad</td>\n",
       "      <td>9</td>\n",
       "      <td>Divorced</td>\n",
       "      <td>Handlers-cleaners</td>\n",
       "      <td>Not-in-family</td>\n",
       "      <td>White</td>\n",
       "      <td>Male</td>\n",
       "      <td>0</td>\n",
       "      <td>0</td>\n",
       "      <td>40</td>\n",
       "      <td>United-States</td>\n",
       "      <td>&lt;=50K</td>\n",
       "    </tr>\n",
       "    <tr>\n",
       "      <th>3</th>\n",
       "      <td>53</td>\n",
       "      <td>Private</td>\n",
       "      <td>234721</td>\n",
       "      <td>11th</td>\n",
       "      <td>7</td>\n",
       "      <td>Married-civ-spouse</td>\n",
       "      <td>Handlers-cleaners</td>\n",
       "      <td>Husband</td>\n",
       "      <td>Black</td>\n",
       "      <td>Male</td>\n",
       "      <td>0</td>\n",
       "      <td>0</td>\n",
       "      <td>40</td>\n",
       "      <td>United-States</td>\n",
       "      <td>&lt;=50K</td>\n",
       "    </tr>\n",
       "    <tr>\n",
       "      <th>4</th>\n",
       "      <td>28</td>\n",
       "      <td>Private</td>\n",
       "      <td>338409</td>\n",
       "      <td>Bachelors</td>\n",
       "      <td>13</td>\n",
       "      <td>Married-civ-spouse</td>\n",
       "      <td>Prof-specialty</td>\n",
       "      <td>Wife</td>\n",
       "      <td>Black</td>\n",
       "      <td>Female</td>\n",
       "      <td>0</td>\n",
       "      <td>0</td>\n",
       "      <td>40</td>\n",
       "      <td>Cuba</td>\n",
       "      <td>&lt;=50K</td>\n",
       "    </tr>\n",
       "  </tbody>\n",
       "</table>\n",
       "</div>"
      ],
      "text/plain": [
       "   age         workclass  fnlwgt  education  education_num  \\\n",
       "0   39         State-gov   77516  Bachelors             13   \n",
       "1   50  Self-emp-not-inc   83311  Bachelors             13   \n",
       "2   38           Private  215646    HS-grad              9   \n",
       "3   53           Private  234721       11th              7   \n",
       "4   28           Private  338409  Bachelors             13   \n",
       "\n",
       "       marital_status         occupation   relationship   race     sex  \\\n",
       "0       Never-married       Adm-clerical  Not-in-family  White    Male   \n",
       "1  Married-civ-spouse    Exec-managerial        Husband  White    Male   \n",
       "2            Divorced  Handlers-cleaners  Not-in-family  White    Male   \n",
       "3  Married-civ-spouse  Handlers-cleaners        Husband  Black    Male   \n",
       "4  Married-civ-spouse     Prof-specialty           Wife  Black  Female   \n",
       "\n",
       "   capital_gain  capital_loss  hours_per_week native_country income  \n",
       "0          2174             0              40  United-States  <=50K  \n",
       "1             0             0              13  United-States  <=50K  \n",
       "2             0             0              40  United-States  <=50K  \n",
       "3             0             0              40  United-States  <=50K  \n",
       "4             0             0              40           Cuba  <=50K  "
      ]
     },
     "execution_count": 2,
     "metadata": {},
     "output_type": "execute_result"
    }
   ],
   "source": [
    "import pandas as pd\n",
    "\n",
    "columns = [\"age\", \"workclass\", \"fnlwgt\", \"education\", \"education_num\", \"marital_status\", \n",
    "           \"occupation\", \"relationship\", \"race\", \"sex\", \"capital_gain\", \n",
    "           \"capital_loss\", \"hours_per_week\", \"native_country\", \"income\"]\n",
    "\n",
    "train_data = pd.read_csv(\"/kaggle/input/adult-income-practice/adult.data\", names=columns, sep=\",\", skipinitialspace=True)\n",
    "test_data = pd.read_csv(\"/kaggle/input/adult-income-practice/adult.test\", names=columns, sep=\",\", skiprows=1, skipinitialspace=True)\n",
    "\n",
    "data = pd.concat([train_data, test_data], ignore_index=True)\n",
    "data.head()"
   ]
  },
  {
   "cell_type": "markdown",
   "id": "f96d6d41",
   "metadata": {
    "papermill": {
     "duration": 0.002437,
     "end_time": "2025-07-31T14:36:33.761434",
     "exception": false,
     "start_time": "2025-07-31T14:36:33.758997",
     "status": "completed"
    },
    "tags": []
   },
   "source": [
    "**Step 2: Clean the Data**\n",
    "The Adult dataset has “?” for missing values. Replace them:"
   ]
  },
  {
   "cell_type": "code",
   "execution_count": 3,
   "id": "be789cac",
   "metadata": {
    "execution": {
     "iopub.execute_input": "2025-07-31T14:36:33.767319Z",
     "iopub.status.busy": "2025-07-31T14:36:33.767056Z",
     "iopub.status.idle": "2025-07-31T14:36:33.864109Z",
     "shell.execute_reply": "2025-07-31T14:36:33.863313Z"
    },
    "papermill": {
     "duration": 0.101265,
     "end_time": "2025-07-31T14:36:33.865185",
     "exception": false,
     "start_time": "2025-07-31T14:36:33.763920",
     "status": "completed"
    },
    "tags": []
   },
   "outputs": [
    {
     "name": "stdout",
     "output_type": "stream",
     "text": [
      "[]\n"
     ]
    }
   ],
   "source": [
    "print([col for col in data.columns if data[col].isnull().sum() > 0])\n",
    "data = data.replace(\"?\", pd.NA)\n",
    "data = data.dropna()"
   ]
  },
  {
   "cell_type": "code",
   "execution_count": 4,
   "id": "ffbb4be4",
   "metadata": {
    "execution": {
     "iopub.execute_input": "2025-07-31T14:36:33.870960Z",
     "iopub.status.busy": "2025-07-31T14:36:33.870724Z",
     "iopub.status.idle": "2025-07-31T14:36:33.881324Z",
     "shell.execute_reply": "2025-07-31T14:36:33.880777Z"
    },
    "papermill": {
     "duration": 0.014659,
     "end_time": "2025-07-31T14:36:33.882325",
     "exception": false,
     "start_time": "2025-07-31T14:36:33.867666",
     "status": "completed"
    },
    "tags": []
   },
   "outputs": [
    {
     "data": {
      "text/html": [
       "<div>\n",
       "<style scoped>\n",
       "    .dataframe tbody tr th:only-of-type {\n",
       "        vertical-align: middle;\n",
       "    }\n",
       "\n",
       "    .dataframe tbody tr th {\n",
       "        vertical-align: top;\n",
       "    }\n",
       "\n",
       "    .dataframe thead th {\n",
       "        text-align: right;\n",
       "    }\n",
       "</style>\n",
       "<table border=\"1\" class=\"dataframe\">\n",
       "  <thead>\n",
       "    <tr style=\"text-align: right;\">\n",
       "      <th></th>\n",
       "      <th>age</th>\n",
       "      <th>workclass</th>\n",
       "      <th>fnlwgt</th>\n",
       "      <th>education</th>\n",
       "      <th>education_num</th>\n",
       "      <th>marital_status</th>\n",
       "      <th>occupation</th>\n",
       "      <th>relationship</th>\n",
       "      <th>race</th>\n",
       "      <th>sex</th>\n",
       "      <th>capital_gain</th>\n",
       "      <th>capital_loss</th>\n",
       "      <th>hours_per_week</th>\n",
       "      <th>native_country</th>\n",
       "      <th>income</th>\n",
       "    </tr>\n",
       "  </thead>\n",
       "  <tbody>\n",
       "    <tr>\n",
       "      <th>0</th>\n",
       "      <td>39</td>\n",
       "      <td>State-gov</td>\n",
       "      <td>77516</td>\n",
       "      <td>Bachelors</td>\n",
       "      <td>13</td>\n",
       "      <td>Never-married</td>\n",
       "      <td>Adm-clerical</td>\n",
       "      <td>Not-in-family</td>\n",
       "      <td>White</td>\n",
       "      <td>Male</td>\n",
       "      <td>2174</td>\n",
       "      <td>0</td>\n",
       "      <td>40</td>\n",
       "      <td>United-States</td>\n",
       "      <td>&lt;=50K</td>\n",
       "    </tr>\n",
       "    <tr>\n",
       "      <th>1</th>\n",
       "      <td>50</td>\n",
       "      <td>Self-emp-not-inc</td>\n",
       "      <td>83311</td>\n",
       "      <td>Bachelors</td>\n",
       "      <td>13</td>\n",
       "      <td>Married-civ-spouse</td>\n",
       "      <td>Exec-managerial</td>\n",
       "      <td>Husband</td>\n",
       "      <td>White</td>\n",
       "      <td>Male</td>\n",
       "      <td>0</td>\n",
       "      <td>0</td>\n",
       "      <td>13</td>\n",
       "      <td>United-States</td>\n",
       "      <td>&lt;=50K</td>\n",
       "    </tr>\n",
       "    <tr>\n",
       "      <th>2</th>\n",
       "      <td>38</td>\n",
       "      <td>Private</td>\n",
       "      <td>215646</td>\n",
       "      <td>HS-grad</td>\n",
       "      <td>9</td>\n",
       "      <td>Divorced</td>\n",
       "      <td>Handlers-cleaners</td>\n",
       "      <td>Not-in-family</td>\n",
       "      <td>White</td>\n",
       "      <td>Male</td>\n",
       "      <td>0</td>\n",
       "      <td>0</td>\n",
       "      <td>40</td>\n",
       "      <td>United-States</td>\n",
       "      <td>&lt;=50K</td>\n",
       "    </tr>\n",
       "    <tr>\n",
       "      <th>3</th>\n",
       "      <td>53</td>\n",
       "      <td>Private</td>\n",
       "      <td>234721</td>\n",
       "      <td>11th</td>\n",
       "      <td>7</td>\n",
       "      <td>Married-civ-spouse</td>\n",
       "      <td>Handlers-cleaners</td>\n",
       "      <td>Husband</td>\n",
       "      <td>Black</td>\n",
       "      <td>Male</td>\n",
       "      <td>0</td>\n",
       "      <td>0</td>\n",
       "      <td>40</td>\n",
       "      <td>United-States</td>\n",
       "      <td>&lt;=50K</td>\n",
       "    </tr>\n",
       "    <tr>\n",
       "      <th>4</th>\n",
       "      <td>28</td>\n",
       "      <td>Private</td>\n",
       "      <td>338409</td>\n",
       "      <td>Bachelors</td>\n",
       "      <td>13</td>\n",
       "      <td>Married-civ-spouse</td>\n",
       "      <td>Prof-specialty</td>\n",
       "      <td>Wife</td>\n",
       "      <td>Black</td>\n",
       "      <td>Female</td>\n",
       "      <td>0</td>\n",
       "      <td>0</td>\n",
       "      <td>40</td>\n",
       "      <td>Cuba</td>\n",
       "      <td>&lt;=50K</td>\n",
       "    </tr>\n",
       "  </tbody>\n",
       "</table>\n",
       "</div>"
      ],
      "text/plain": [
       "   age         workclass  fnlwgt  education  education_num  \\\n",
       "0   39         State-gov   77516  Bachelors             13   \n",
       "1   50  Self-emp-not-inc   83311  Bachelors             13   \n",
       "2   38           Private  215646    HS-grad              9   \n",
       "3   53           Private  234721       11th              7   \n",
       "4   28           Private  338409  Bachelors             13   \n",
       "\n",
       "       marital_status         occupation   relationship   race     sex  \\\n",
       "0       Never-married       Adm-clerical  Not-in-family  White    Male   \n",
       "1  Married-civ-spouse    Exec-managerial        Husband  White    Male   \n",
       "2            Divorced  Handlers-cleaners  Not-in-family  White    Male   \n",
       "3  Married-civ-spouse  Handlers-cleaners        Husband  Black    Male   \n",
       "4  Married-civ-spouse     Prof-specialty           Wife  Black  Female   \n",
       "\n",
       "   capital_gain  capital_loss  hours_per_week native_country income  \n",
       "0          2174             0              40  United-States  <=50K  \n",
       "1             0             0              13  United-States  <=50K  \n",
       "2             0             0              40  United-States  <=50K  \n",
       "3             0             0              40  United-States  <=50K  \n",
       "4             0             0              40           Cuba  <=50K  "
      ]
     },
     "execution_count": 4,
     "metadata": {},
     "output_type": "execute_result"
    }
   ],
   "source": [
    "data.head()"
   ]
  },
  {
   "cell_type": "code",
   "execution_count": 5,
   "id": "03e5b8ef",
   "metadata": {
    "execution": {
     "iopub.execute_input": "2025-07-31T14:36:33.888460Z",
     "iopub.status.busy": "2025-07-31T14:36:33.888253Z",
     "iopub.status.idle": "2025-07-31T14:36:33.906839Z",
     "shell.execute_reply": "2025-07-31T14:36:33.906317Z"
    },
    "papermill": {
     "duration": 0.022648,
     "end_time": "2025-07-31T14:36:33.907885",
     "exception": false,
     "start_time": "2025-07-31T14:36:33.885237",
     "status": "completed"
    },
    "tags": []
   },
   "outputs": [],
   "source": [
    "#Split the data\n",
    "\n",
    "x_train, x_test, y_train, y_test = train_test_split(\n",
    "    data.drop(['income'], axis=1),\n",
    "    data['income'],\n",
    "    test_size = 0.3,\n",
    "    random_state = 0\n",
    ")"
   ]
  },
  {
   "cell_type": "code",
   "execution_count": 6,
   "id": "92f00696",
   "metadata": {
    "execution": {
     "iopub.execute_input": "2025-07-31T14:36:33.913713Z",
     "iopub.status.busy": "2025-07-31T14:36:33.913528Z",
     "iopub.status.idle": "2025-07-31T14:36:33.921844Z",
     "shell.execute_reply": "2025-07-31T14:36:33.921023Z"
    },
    "papermill": {
     "duration": 0.012474,
     "end_time": "2025-07-31T14:36:33.923067",
     "exception": false,
     "start_time": "2025-07-31T14:36:33.910593",
     "status": "completed"
    },
    "tags": []
   },
   "outputs": [
    {
     "name": "stdout",
     "output_type": "stream",
     "text": [
      "       age         workclass  fnlwgt     education  education_num  \\\n",
      "11140   18           Private  190325          11th              7   \n",
      "42461   41           Private  107845     Bachelors             13   \n",
      "2903    42           Private  200574  Some-college             10   \n",
      "19409   20           Private  164219       HS-grad              9   \n",
      "12432   40           Private  110028  Some-college             10   \n",
      "...    ...               ...     ...           ...            ...   \n",
      "32823   29           Private  100293  Some-college             10   \n",
      "22924   39      Self-emp-inc  188069     Assoc-voc             11   \n",
      "46005   58  Self-emp-not-inc  290670     Bachelors             13   \n",
      "47040   56           Private   70857       HS-grad              9   \n",
      "2976    34           Private  182177       HS-grad              9   \n",
      "\n",
      "           marital_status         occupation   relationship   race     sex  \\\n",
      "11140       Never-married       Craft-repair      Own-child  White    Male   \n",
      "42461  Married-civ-spouse     Prof-specialty           Wife  White  Female   \n",
      "2903   Married-civ-spouse              Sales        Husband  White    Male   \n",
      "19409       Never-married  Handlers-cleaners      Own-child  White    Male   \n",
      "12432  Married-civ-spouse       Craft-repair        Husband  White    Male   \n",
      "...                   ...                ...            ...    ...     ...   \n",
      "32823       Never-married     Prof-specialty  Not-in-family  White  Female   \n",
      "22924  Married-civ-spouse    Exec-managerial        Husband  White    Male   \n",
      "46005  Married-civ-spouse    Exec-managerial        Husband  White    Male   \n",
      "47040  Married-civ-spouse    Exec-managerial        Husband  White    Male   \n",
      "2976             Divorced       Craft-repair  Not-in-family  White    Male   \n",
      "\n",
      "       capital_gain  capital_loss  hours_per_week native_country  \n",
      "11140             0             0              30  United-States  \n",
      "42461             0             0              40  United-States  \n",
      "2903              0             0              40  United-States  \n",
      "19409             0             0              45  United-States  \n",
      "12432             0             0              40  United-States  \n",
      "...             ...           ...             ...            ...  \n",
      "32823             0             0              40  United-States  \n",
      "22924             0             0              60  United-States  \n",
      "46005             0             0              55  United-States  \n",
      "47040             0             0              40  United-States  \n",
      "2976           3325             0              35  United-States  \n",
      "\n",
      "[31655 rows x 14 columns]\n",
      "\n",
      "\n",
      "11140     <=50K\n",
      "42461     >50K.\n",
      "2903      <=50K\n",
      "19409     <=50K\n",
      "12432     <=50K\n",
      "          ...  \n",
      "32823    <=50K.\n",
      "22924      >50K\n",
      "46005     >50K.\n",
      "47040    <=50K.\n",
      "2976      <=50K\n",
      "Name: income, Length: 31655, dtype: object\n"
     ]
    }
   ],
   "source": [
    "print(x_train)\n",
    "print()\n",
    "print()\n",
    "print(y_train)"
   ]
  },
  {
   "cell_type": "markdown",
   "id": "d2b96b2f",
   "metadata": {
    "papermill": {
     "duration": 0.002565,
     "end_time": "2025-07-31T14:36:33.928628",
     "exception": false,
     "start_time": "2025-07-31T14:36:33.926063",
     "status": "completed"
    },
    "tags": []
   },
   "source": [
    "**Step 3: Detect Constant & Quasi-Constant Features**\n",
    "\n",
    "\n",
    "* Constant Feature → Same value in all rows.\n",
    "* Quasi-Constant Feature → Same value in almost all rows (like 99% same).\n"
   ]
  },
  {
   "cell_type": "code",
   "execution_count": 7,
   "id": "685fc1ca",
   "metadata": {
    "execution": {
     "iopub.execute_input": "2025-07-31T14:36:33.935127Z",
     "iopub.status.busy": "2025-07-31T14:36:33.934889Z",
     "iopub.status.idle": "2025-07-31T14:36:33.957125Z",
     "shell.execute_reply": "2025-07-31T14:36:33.956537Z"
    },
    "papermill": {
     "duration": 0.026649,
     "end_time": "2025-07-31T14:36:33.958156",
     "exception": false,
     "start_time": "2025-07-31T14:36:33.931507",
     "status": "completed"
    },
    "tags": []
   },
   "outputs": [
    {
     "name": "stdout",
     "output_type": "stream",
     "text": [
      "Constant Features:  []\n"
     ]
    }
   ],
   "source": [
    "#Constant Features\n",
    "constant_feature = [col for col in x_train.columns if x_train[col].nunique() == 1]\n",
    "print(\"Constant Features: \", constant_feature)"
   ]
  },
  {
   "cell_type": "code",
   "execution_count": 8,
   "id": "34fa74c0",
   "metadata": {
    "execution": {
     "iopub.execute_input": "2025-07-31T14:36:33.963808Z",
     "iopub.status.busy": "2025-07-31T14:36:33.963625Z",
     "iopub.status.idle": "2025-07-31T14:36:33.994329Z",
     "shell.execute_reply": "2025-07-31T14:36:33.993737Z"
    },
    "papermill": {
     "duration": 0.034784,
     "end_time": "2025-07-31T14:36:33.995438",
     "exception": false,
     "start_time": "2025-07-31T14:36:33.960654",
     "status": "completed"
    },
    "tags": []
   },
   "outputs": [
    {
     "name": "stdout",
     "output_type": "stream",
     "text": [
      "Quasi Constant Features:  []\n"
     ]
    }
   ],
   "source": [
    "#Quasi-Constant Feature\n",
    "quasi_constant_feature = []\n",
    "for col in x_train.columns:\n",
    "    top_freq = x_train[col].value_counts(normalize=True).max() #predominant\n",
    "    if top_freq > 0.98:\n",
    "        quasi_constant_feature.append(col)\n",
    "\n",
    "print(\"Quasi Constant Features: \", quasi_constant_feature)"
   ]
  },
  {
   "cell_type": "markdown",
   "id": "a0c2b984",
   "metadata": {
    "papermill": {
     "duration": 0.002681,
     "end_time": "2025-07-31T14:36:34.001065",
     "exception": false,
     "start_time": "2025-07-31T14:36:33.998384",
     "status": "completed"
    },
    "tags": []
   },
   "source": [
    "Step-3: Duplicate Features"
   ]
  },
  {
   "cell_type": "code",
   "execution_count": null,
   "id": "39d5bef9",
   "metadata": {
    "papermill": {
     "duration": 0.002748,
     "end_time": "2025-07-31T14:36:34.007052",
     "exception": false,
     "start_time": "2025-07-31T14:36:34.004304",
     "status": "completed"
    },
    "tags": []
   },
   "outputs": [],
   "source": []
  }
 ],
 "metadata": {
  "kaggle": {
   "accelerator": "nvidiaTeslaT4",
   "dataSources": [
    {
     "datasetId": 7973511,
     "sourceId": 12620316,
     "sourceType": "datasetVersion"
    }
   ],
   "dockerImageVersionId": 31090,
   "isGpuEnabled": true,
   "isInternetEnabled": false,
   "language": "python",
   "sourceType": "notebook"
  },
  "kernelspec": {
   "display_name": "Python 3",
   "language": "python",
   "name": "python3"
  },
  "language_info": {
   "codemirror_mode": {
    "name": "ipython",
    "version": 3
   },
   "file_extension": ".py",
   "mimetype": "text/x-python",
   "name": "python",
   "nbconvert_exporter": "python",
   "pygments_lexer": "ipython3",
   "version": "3.11.13"
  },
  "papermill": {
   "default_parameters": {},
   "duration": 7.793654,
   "end_time": "2025-07-31T14:36:34.427534",
   "environment_variables": {},
   "exception": null,
   "input_path": "__notebook__.ipynb",
   "output_path": "__notebook__.ipynb",
   "parameters": {},
   "start_time": "2025-07-31T14:36:26.633880",
   "version": "2.6.0"
  }
 },
 "nbformat": 4,
 "nbformat_minor": 5
}
