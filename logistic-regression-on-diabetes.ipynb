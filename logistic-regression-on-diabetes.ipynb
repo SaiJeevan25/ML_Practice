{
 "cells": [
  {
   "cell_type": "code",
   "execution_count": 1,
   "id": "fef74813",
   "metadata": {
    "execution": {
     "iopub.execute_input": "2025-08-20T09:59:31.703510Z",
     "iopub.status.busy": "2025-08-20T09:59:31.703138Z",
     "iopub.status.idle": "2025-08-20T09:59:35.769134Z",
     "shell.execute_reply": "2025-08-20T09:59:35.768208Z"
    },
    "papermill": {
     "duration": 4.0728,
     "end_time": "2025-08-20T09:59:35.770868",
     "exception": false,
     "start_time": "2025-08-20T09:59:31.698068",
     "status": "completed"
    },
    "tags": []
   },
   "outputs": [],
   "source": [
    "import pandas as pd\n",
    "from sklearn.feature_selection import mutual_info_regression\n",
    "import seaborn as sns\n",
    "from sklearn.model_selection import train_test_split\n",
    "import matplotlib.pyplot as plt\n",
    "from sklearn.linear_model import LogisticRegression"
   ]
  },
  {
   "cell_type": "code",
   "execution_count": 2,
   "id": "a3f81ac5",
   "metadata": {
    "execution": {
     "iopub.execute_input": "2025-08-20T09:59:35.778773Z",
     "iopub.status.busy": "2025-08-20T09:59:35.778344Z",
     "iopub.status.idle": "2025-08-20T09:59:36.182715Z",
     "shell.execute_reply": "2025-08-20T09:59:36.181671Z"
    },
    "papermill": {
     "duration": 0.410044,
     "end_time": "2025-08-20T09:59:36.184388",
     "exception": false,
     "start_time": "2025-08-20T09:59:35.774344",
     "status": "completed"
    },
    "tags": []
   },
   "outputs": [
    {
     "name": "stdout",
     "output_type": "stream",
     "text": [
      "Path to dataset files: /kaggle/input/diabetes-data-set\n"
     ]
    }
   ],
   "source": [
    "import kagglehub\n",
    "\n",
    "# Download latest version\n",
    "path = kagglehub.dataset_download(\"mathchi/diabetes-data-set\")\n",
    "\n",
    "print(\"Path to dataset files:\", path)"
   ]
  },
  {
   "cell_type": "code",
   "execution_count": 3,
   "id": "f260b2bd",
   "metadata": {
    "_cell_guid": "b1076dfc-b9ad-4769-8c92-a6c4dae69d19",
    "_uuid": "8f2839f25d086af736a60e9eeb907d3b93b6e0e5",
    "execution": {
     "iopub.execute_input": "2025-08-20T09:59:36.192363Z",
     "iopub.status.busy": "2025-08-20T09:59:36.191561Z",
     "iopub.status.idle": "2025-08-20T09:59:36.250523Z",
     "shell.execute_reply": "2025-08-20T09:59:36.249610Z"
    },
    "papermill": {
     "duration": 0.064077,
     "end_time": "2025-08-20T09:59:36.251778",
     "exception": false,
     "start_time": "2025-08-20T09:59:36.187701",
     "status": "completed"
    },
    "tags": []
   },
   "outputs": [
    {
     "name": "stdout",
     "output_type": "stream",
     "text": [
      "(768, 9)\n"
     ]
    },
    {
     "data": {
      "text/html": [
       "<div>\n",
       "<style scoped>\n",
       "    .dataframe tbody tr th:only-of-type {\n",
       "        vertical-align: middle;\n",
       "    }\n",
       "\n",
       "    .dataframe tbody tr th {\n",
       "        vertical-align: top;\n",
       "    }\n",
       "\n",
       "    .dataframe thead th {\n",
       "        text-align: right;\n",
       "    }\n",
       "</style>\n",
       "<table border=\"1\" class=\"dataframe\">\n",
       "  <thead>\n",
       "    <tr style=\"text-align: right;\">\n",
       "      <th></th>\n",
       "      <th>Pregnancies</th>\n",
       "      <th>Glucose</th>\n",
       "      <th>BloodPressure</th>\n",
       "      <th>SkinThickness</th>\n",
       "      <th>Insulin</th>\n",
       "      <th>BMI</th>\n",
       "      <th>DiabetesPedigreeFunction</th>\n",
       "      <th>Age</th>\n",
       "      <th>Outcome</th>\n",
       "    </tr>\n",
       "  </thead>\n",
       "  <tbody>\n",
       "    <tr>\n",
       "      <th>0</th>\n",
       "      <td>6</td>\n",
       "      <td>148</td>\n",
       "      <td>72</td>\n",
       "      <td>35</td>\n",
       "      <td>0</td>\n",
       "      <td>33.6</td>\n",
       "      <td>0.627</td>\n",
       "      <td>50</td>\n",
       "      <td>1</td>\n",
       "    </tr>\n",
       "    <tr>\n",
       "      <th>1</th>\n",
       "      <td>1</td>\n",
       "      <td>85</td>\n",
       "      <td>66</td>\n",
       "      <td>29</td>\n",
       "      <td>0</td>\n",
       "      <td>26.6</td>\n",
       "      <td>0.351</td>\n",
       "      <td>31</td>\n",
       "      <td>0</td>\n",
       "    </tr>\n",
       "    <tr>\n",
       "      <th>2</th>\n",
       "      <td>8</td>\n",
       "      <td>183</td>\n",
       "      <td>64</td>\n",
       "      <td>0</td>\n",
       "      <td>0</td>\n",
       "      <td>23.3</td>\n",
       "      <td>0.672</td>\n",
       "      <td>32</td>\n",
       "      <td>1</td>\n",
       "    </tr>\n",
       "    <tr>\n",
       "      <th>3</th>\n",
       "      <td>1</td>\n",
       "      <td>89</td>\n",
       "      <td>66</td>\n",
       "      <td>23</td>\n",
       "      <td>94</td>\n",
       "      <td>28.1</td>\n",
       "      <td>0.167</td>\n",
       "      <td>21</td>\n",
       "      <td>0</td>\n",
       "    </tr>\n",
       "    <tr>\n",
       "      <th>4</th>\n",
       "      <td>0</td>\n",
       "      <td>137</td>\n",
       "      <td>40</td>\n",
       "      <td>35</td>\n",
       "      <td>168</td>\n",
       "      <td>43.1</td>\n",
       "      <td>2.288</td>\n",
       "      <td>33</td>\n",
       "      <td>1</td>\n",
       "    </tr>\n",
       "  </tbody>\n",
       "</table>\n",
       "</div>"
      ],
      "text/plain": [
       "   Pregnancies  Glucose  BloodPressure  SkinThickness  Insulin   BMI  \\\n",
       "0            6      148             72             35        0  33.6   \n",
       "1            1       85             66             29        0  26.6   \n",
       "2            8      183             64              0        0  23.3   \n",
       "3            1       89             66             23       94  28.1   \n",
       "4            0      137             40             35      168  43.1   \n",
       "\n",
       "   DiabetesPedigreeFunction  Age  Outcome  \n",
       "0                     0.627   50        1  \n",
       "1                     0.351   31        0  \n",
       "2                     0.672   32        1  \n",
       "3                     0.167   21        0  \n",
       "4                     2.288   33        1  "
      ]
     },
     "execution_count": 3,
     "metadata": {},
     "output_type": "execute_result"
    }
   ],
   "source": [
    "df = pd.read_csv(\"/kaggle/input/diabetes-data-set/diabetes.csv\")\n",
    "print(df.shape)\n",
    "df.head()"
   ]
  },
  {
   "cell_type": "code",
   "execution_count": 4,
   "id": "ea3a7bbf",
   "metadata": {
    "execution": {
     "iopub.execute_input": "2025-08-20T09:59:36.259300Z",
     "iopub.status.busy": "2025-08-20T09:59:36.258969Z",
     "iopub.status.idle": "2025-08-20T09:59:36.265966Z",
     "shell.execute_reply": "2025-08-20T09:59:36.265248Z"
    },
    "papermill": {
     "duration": 0.012354,
     "end_time": "2025-08-20T09:59:36.267412",
     "exception": false,
     "start_time": "2025-08-20T09:59:36.255058",
     "status": "completed"
    },
    "tags": []
   },
   "outputs": [
    {
     "data": {
      "text/plain": [
       "Pregnancies                 0\n",
       "Glucose                     0\n",
       "BloodPressure               0\n",
       "SkinThickness               0\n",
       "Insulin                     0\n",
       "BMI                         0\n",
       "DiabetesPedigreeFunction    0\n",
       "Age                         0\n",
       "Outcome                     0\n",
       "dtype: int64"
      ]
     },
     "execution_count": 4,
     "metadata": {},
     "output_type": "execute_result"
    }
   ],
   "source": [
    "df.isnull().sum()"
   ]
  },
  {
   "cell_type": "code",
   "execution_count": 5,
   "id": "ad60fb01",
   "metadata": {
    "execution": {
     "iopub.execute_input": "2025-08-20T09:59:36.275009Z",
     "iopub.status.busy": "2025-08-20T09:59:36.274756Z",
     "iopub.status.idle": "2025-08-20T09:59:36.290022Z",
     "shell.execute_reply": "2025-08-20T09:59:36.289041Z"
    },
    "papermill": {
     "duration": 0.02074,
     "end_time": "2025-08-20T09:59:36.291610",
     "exception": false,
     "start_time": "2025-08-20T09:59:36.270870",
     "status": "completed"
    },
    "tags": []
   },
   "outputs": [],
   "source": [
    "X = df.drop('Outcome', axis=1)\n",
    "y = df['Outcome']\n",
    "\n",
    "X_train, X_test, y_train, y_test = train_test_split(X,y, test_size=0.2, random_state=42)"
   ]
  },
  {
   "cell_type": "markdown",
   "id": "2e85deef",
   "metadata": {
    "papermill": {
     "duration": 0.003172,
     "end_time": "2025-08-20T09:59:36.298369",
     "exception": false,
     "start_time": "2025-08-20T09:59:36.295197",
     "status": "completed"
    },
    "tags": []
   },
   "source": [
    "# Training Using Logistic Regression"
   ]
  },
  {
   "cell_type": "code",
   "execution_count": 6,
   "id": "fcdf0741",
   "metadata": {
    "execution": {
     "iopub.execute_input": "2025-08-20T09:59:36.306647Z",
     "iopub.status.busy": "2025-08-20T09:59:36.305979Z",
     "iopub.status.idle": "2025-08-20T09:59:36.828917Z",
     "shell.execute_reply": "2025-08-20T09:59:36.828222Z"
    },
    "papermill": {
     "duration": 0.533621,
     "end_time": "2025-08-20T09:59:36.835429",
     "exception": false,
     "start_time": "2025-08-20T09:59:36.301808",
     "status": "completed"
    },
    "tags": []
   },
   "outputs": [],
   "source": [
    "lr = LogisticRegression(max_iter=500)\n",
    "lr.fit(X_train, y_train)\n",
    "y_pred_lr = lr.predict(X_test)"
   ]
  },
  {
   "cell_type": "markdown",
   "id": "48f7d47c",
   "metadata": {
    "papermill": {
     "duration": 0.005363,
     "end_time": "2025-08-20T09:59:36.852331",
     "exception": false,
     "start_time": "2025-08-20T09:59:36.846968",
     "status": "completed"
    },
    "tags": []
   },
   "source": [
    "**Evaluating the model**"
   ]
  },
  {
   "cell_type": "code",
   "execution_count": 7,
   "id": "f3142bd3",
   "metadata": {
    "execution": {
     "iopub.execute_input": "2025-08-20T09:59:36.864687Z",
     "iopub.status.busy": "2025-08-20T09:59:36.864350Z",
     "iopub.status.idle": "2025-08-20T09:59:36.880253Z",
     "shell.execute_reply": "2025-08-20T09:59:36.879282Z"
    },
    "papermill": {
     "duration": 0.024881,
     "end_time": "2025-08-20T09:59:36.882825",
     "exception": false,
     "start_time": "2025-08-20T09:59:36.857944",
     "status": "completed"
    },
    "tags": []
   },
   "outputs": [
    {
     "name": "stdout",
     "output_type": "stream",
     "text": [
      "Accuracy: 0.7467532467532467\n",
      "Precision: 0.7501539408866995\n",
      "Recall: 0.7467532467532467\n",
      "F1 Score: 0.7481668773704172\n"
     ]
    }
   ],
   "source": [
    "from sklearn.metrics import accuracy_score, precision_score, recall_score, f1_score\n",
    "\n",
    "accuracy = accuracy_score(y_test, y_pred_lr)\n",
    "precision = precision_score(y_test, y_pred_lr, average='weighted')\n",
    "recall = recall_score(y_test, y_pred_lr, average='weighted')\n",
    "f1 = f1_score(y_test, y_pred_lr, average='weighted')\n",
    "\n",
    "print(f\"Accuracy: {accuracy}\")\n",
    "print(f\"Precision: {precision}\")\n",
    "print(f\"Recall: {recall}\")\n",
    "print(f\"F1 Score: {f1}\")"
   ]
  },
  {
   "cell_type": "markdown",
   "id": "b47e28ba",
   "metadata": {
    "papermill": {
     "duration": 0.00514,
     "end_time": "2025-08-20T09:59:36.893514",
     "exception": false,
     "start_time": "2025-08-20T09:59:36.888374",
     "status": "completed"
    },
    "tags": []
   },
   "source": [
    "**Confusion Matrix**"
   ]
  },
  {
   "cell_type": "code",
   "execution_count": 8,
   "id": "c4815272",
   "metadata": {
    "execution": {
     "iopub.execute_input": "2025-08-20T09:59:36.906541Z",
     "iopub.status.busy": "2025-08-20T09:59:36.906192Z",
     "iopub.status.idle": "2025-08-20T09:59:37.202776Z",
     "shell.execute_reply": "2025-08-20T09:59:37.201987Z"
    },
    "papermill": {
     "duration": 0.30435,
     "end_time": "2025-08-20T09:59:37.204168",
     "exception": false,
     "start_time": "2025-08-20T09:59:36.899818",
     "status": "completed"
    },
    "tags": []
   },
   "outputs": [
    {
     "data": {
      "image/png": "[encoded data removed]",
      "text/plain": [
       "<Figure size 640x480 with 2 Axes>"
      ]
     },
     "metadata": {},
     "output_type": "display_data"
    }
   ],
   "source": [
    "from sklearn.metrics import confusion_matrix, ConfusionMatrixDisplay\n",
    "\n",
    "cm = confusion_matrix(y_test, y_pred_lr)\n",
    "disp = ConfusionMatrixDisplay(confusion_matrix=cm)\n",
    "disp.plot(cmap=\"Blues\")\n",
    "plt.title(\"Confusion Matrix\")\n",
    "plt.show()\n"
   ]
  },
  {
   "cell_type": "markdown",
   "id": "c4902862",
   "metadata": {
    "papermill": {
     "duration": 0.003511,
     "end_time": "2025-08-20T09:59:37.211552",
     "exception": false,
     "start_time": "2025-08-20T09:59:37.208041",
     "status": "completed"
    },
    "tags": []
   },
   "source": [
    "**Classification Report**"
   ]
  },
  {
   "cell_type": "code",
   "execution_count": 9,
   "id": "fd4a659b",
   "metadata": {
    "execution": {
     "iopub.execute_input": "2025-08-20T09:59:37.219897Z",
     "iopub.status.busy": "2025-08-20T09:59:37.219594Z",
     "iopub.status.idle": "2025-08-20T09:59:37.231552Z",
     "shell.execute_reply": "2025-08-20T09:59:37.230455Z"
    },
    "papermill": {
     "duration": 0.01783,
     "end_time": "2025-08-20T09:59:37.233100",
     "exception": false,
     "start_time": "2025-08-20T09:59:37.215270",
     "status": "completed"
    },
    "tags": []
   },
   "outputs": [
    {
     "name": "stdout",
     "output_type": "stream",
     "text": [
      "              precision    recall  f1-score   support\n",
      "\n",
      "           0       0.81      0.79      0.80        99\n",
      "           1       0.64      0.67      0.65        55\n",
      "\n",
      "    accuracy                           0.75       154\n",
      "   macro avg       0.73      0.73      0.73       154\n",
      "weighted avg       0.75      0.75      0.75       154\n",
      "\n"
     ]
    }
   ],
   "source": [
    "from sklearn.metrics import classification_report\n",
    "print(classification_report(y_test, y_pred_lr))"
   ]
  },
  {
   "cell_type": "code",
   "execution_count": 10,
   "id": "a70b1853",
   "metadata": {
    "execution": {
     "iopub.execute_input": "2025-08-20T09:59:37.242128Z",
     "iopub.status.busy": "2025-08-20T09:59:37.241847Z",
     "iopub.status.idle": "2025-08-20T09:59:37.421782Z",
     "shell.execute_reply": "2025-08-20T09:59:37.420736Z"
    },
    "papermill": {
     "duration": 0.18623,
     "end_time": "2025-08-20T09:59:37.423264",
     "exception": false,
     "start_time": "2025-08-20T09:59:37.237034",
     "status": "completed"
    },
    "tags": []
   },
   "outputs": [
    {
     "data": {
      "image/png": "[encoded data removed]",
      "text/plain": [
       "<Figure size 640x480 with 1 Axes>"
      ]
     },
     "metadata": {},
     "output_type": "display_data"
    },
    {
     "name": "stdout",
     "output_type": "stream",
     "text": [
      "ROC AUC Score: 0.8128558310376492\n"
     ]
    }
   ],
   "source": [
    "from sklearn.metrics import roc_auc_score, roc_curve\n",
    "import matplotlib.pyplot as plt\n",
    "\n",
    "y_proba = lr.predict_proba(X_test)[:, 1]  # probability of class 1\n",
    "\n",
    "fpr, tpr, thresholds = roc_curve(y_test, y_proba)\n",
    "plt.plot(fpr, tpr, label='ROC Curve')\n",
    "plt.plot([0,1],[0,1],'k--')\n",
    "plt.xlabel('False Positive Rate')\n",
    "plt.ylabel('True Positive Rate')\n",
    "plt.title('ROC Curve')\n",
    "plt.legend()\n",
    "plt.show()\n",
    "\n",
    "print(\"ROC AUC Score:\", roc_auc_score(y_test, y_proba))\n"
   ]
  },
  {
   "cell_type": "markdown",
   "id": "e3cab048",
   "metadata": {
    "papermill": {
     "duration": 0.004078,
     "end_time": "2025-08-20T09:59:37.432016",
     "exception": false,
     "start_time": "2025-08-20T09:59:37.427938",
     "status": "completed"
    },
    "tags": []
   },
   "source": [
    "**Logistic Loss**"
   ]
  },
  {
   "cell_type": "code",
   "execution_count": 11,
   "id": "9d680453",
   "metadata": {
    "execution": {
     "iopub.execute_input": "2025-08-20T09:59:37.441775Z",
     "iopub.status.busy": "2025-08-20T09:59:37.441467Z",
     "iopub.status.idle": "2025-08-20T09:59:37.450759Z",
     "shell.execute_reply": "2025-08-20T09:59:37.449918Z"
    },
    "papermill": {
     "duration": 0.015647,
     "end_time": "2025-08-20T09:59:37.452051",
     "exception": false,
     "start_time": "2025-08-20T09:59:37.436404",
     "status": "completed"
    },
    "tags": []
   },
   "outputs": [
    {
     "name": "stdout",
     "output_type": "stream",
     "text": [
      "Log Loss: 0.5117057650243035\n"
     ]
    }
   ],
   "source": [
    "from sklearn.metrics import log_loss\n",
    "print(\"Log Loss:\", log_loss(y_test, lr.predict_proba(X_test)))"
   ]
  }
 ],
 "metadata": {
  "kaggle": {
   "accelerator": "none",
   "dataSources": [
    {
     "databundleVersionId": 1433199,
     "datasetId": 818300,
     "isSourceIdPinned": false,
     "sourceId": 1400440,
     "sourceType": "datasetVersion"
    }
   ],
   "dockerImageVersionId": 31089,
   "isGpuEnabled": false,
   "isInternetEnabled": true,
   "language": "python",
   "sourceType": "notebook"
  },
  "kernelspec": {
   "display_name": "Python 3",
   "language": "python",
   "name": "python3"
  },
  "language_info": {
   "codemirror_mode": {
    "name": "ipython",
    "version": 3
   },
   "file_extension": ".py",
   "mimetype": "text/x-python",
   "name": "python",
   "nbconvert_exporter": "python",
   "pygments_lexer": "ipython3",
   "version": "3.11.13"
  },
  "papermill": {
   "default_parameters": {},
   "duration": 11.687202,
   "end_time": "2025-08-20T09:59:38.176743",
   "environment_variables": {},
   "exception": null,
   "input_path": "__notebook__.ipynb",
   "output_path": "__notebook__.ipynb",
   "parameters": {},
   "start_time": "2025-08-20T09:59:26.489541",
   "version": "2.6.0"
  }
 },
 "nbformat": 4,
 "nbformat_minor": 5
}
