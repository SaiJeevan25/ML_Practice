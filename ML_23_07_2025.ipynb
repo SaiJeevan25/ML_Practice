{
  "nbformat": 4,
  "nbformat_minor": 0,
  "metadata": {
    "colab": {
      "provenance": [],
      "authorship_tag": "ABX9TyMx9Do5AbqmKarPhD19ohVf",
      "include_colab_link": true
    },
    "kernelspec": {
      "name": "python3",
      "display_name": "Python 3"
    },
    "language_info": {
      "name": "python"
    }
  },
  "cells": [
    {
      "cell_type": "markdown",
      "metadata": {
        "id": "view-in-github",
        "colab_type": "text"
      },
      "source": [
        "<a href=\"https://colab.research.google.com/github/SaiJeevan25/ML_Practice/blob/main/ML_23_07_2025.ipynb\" target=\"_parent\"><img src=\"https://colab.research.google.com/assets/colab-badge.svg\" alt=\"Open In Colab\"/></a>"
      ]
    },
    {
      "cell_type": "code",
      "execution_count": null,
      "metadata": {
        "colab": {
          "base_uri": "https://localhost:8080/"
        },
        "id": "-aNT8Kb5nOKH",
        "outputId": "ca99e642-d538-465b-c14d-74011bc8c043"
      },
      "outputs": [
        {
          "output_type": "stream",
          "name": "stdout",
          "text": [
            "  Alphabet  Words\n",
            "1        A  Apple\n",
            "2        B   Ball\n",
            "3        C    Cat\n"
          ]
        }
      ],
      "source": [
        "import pandas as pd\n",
        "\n",
        "data = [\n",
        "    ['A','Apple'],\n",
        "    ['B','Ball'],\n",
        "    ['C','Cat']\n",
        "  ]\n",
        "\n",
        "a = pd.DataFrame(data, index=['1', '2', '3'], columns=['Alphabet', 'Words'])"
      ]
    },
    {
      "cell_type": "code",
      "source": [
        "import pandas as pd\n",
        "\n",
        "data = [\n",
        "    [100.5, 12000, 20000, 50000],\n",
        "    [150.8, 18000, 50000, 60000],\n",
        "    [200.9, 22000, 70000, 70000],\n",
        "    [30000, 30000, 100000, 80000],\n",
        "    [40000, 45000, 125000, 90000]\n",
        "]\n",
        "\n",
        "index = ['Madhu', 'Kusum', 'Kinshuk', 'Ankit', 'Shruti']\n",
        "cols = [2014,2015,2016,2017]\n",
        "\n",
        "a = pd.DataFrame(data, index=index, columns=cols)\n",
        "\n",
        "print(a)\n",
        "\n",
        "print()\n",
        "#Row labels\n",
        "print(a.index)\n",
        "\n",
        "print()\n",
        "#column labels\n",
        "print(a.columns)\n",
        "\n",
        "print()\n",
        "#Dtypes for columns\n",
        "print(\"Dtypes: \\n\", a.dtypes)\n",
        "\n",
        "#Dimensions\n",
        "print(\"\\nDimensions: \", a.ndim)\n",
        "\n",
        "#Shape\n",
        "print('\\nShape: ', a.shape)\n",
        "\n",
        "#Size\n",
        "print('\\nSize: ', a.size)\n",
        "\n",
        "#values\n",
        "print('\\nValues: \\n', a.values)\n",
        "\n",
        "#last 2 rows\n",
        "print()\n",
        "print(a.tail(2))\n",
        "\n",
        "print()\n",
        "#first 2 cols\n",
        "print(a.iloc[:3:2])\n",
        "\n",
        "#Check Empty\n",
        "print(\"\\nIs Empty: \", a.empty)\n"
      ],
      "metadata": {
        "colab": {
          "base_uri": "https://localhost:8080/"
        },
        "id": "JYBEAWdeAUaR",
        "outputId": "87c18e3a-e659-44ce-f357-7556ef60948f"
      },
      "execution_count": null,
      "outputs": [
        {
          "output_type": "stream",
          "name": "stdout",
          "text": [
            "            2014   2015    2016   2017\n",
            "Madhu      100.5  12000   20000  50000\n",
            "Kusum      150.8  18000   50000  60000\n",
            "Kinshuk    200.9  22000   70000  70000\n",
            "Ankit    30000.0  30000  100000  80000\n",
            "Shruti   40000.0  45000  125000  90000\n",
            "\n",
            "Index(['Madhu', 'Kusum', 'Kinshuk', 'Ankit', 'Shruti'], dtype='object')\n",
            "\n",
            "Index([2014, 2015, 2016, 2017], dtype='int64')\n",
            "\n",
            "Dtypes: \n",
            " 2014    float64\n",
            "2015      int64\n",
            "2016      int64\n",
            "2017      int64\n",
            "dtype: object\n",
            "\n",
            "Dimensions:  2\n",
            "\n",
            "Shape:  (5, 4)\n",
            "\n",
            "Size:  20\n",
            "\n",
            "Values: \n",
            " [[1.005e+02 1.200e+04 2.000e+04 5.000e+04]\n",
            " [1.508e+02 1.800e+04 5.000e+04 6.000e+04]\n",
            " [2.009e+02 2.200e+04 7.000e+04 7.000e+04]\n",
            " [3.000e+04 3.000e+04 1.000e+05 8.000e+04]\n",
            " [4.000e+04 4.500e+04 1.250e+05 9.000e+04]]\n",
            "\n",
            "           2014   2015    2016   2017\n",
            "Ankit   30000.0  30000  100000  80000\n",
            "Shruti  40000.0  45000  125000  90000\n",
            "\n",
            "          2014   2015   2016   2017\n",
            "Madhu    100.5  12000  20000  50000\n",
            "Kinshuk  200.9  22000  70000  70000\n",
            "\n",
            "Is Empty:  False\n"
          ]
        }
      ]
    },
    {
      "cell_type": "code",
      "source": [
        "data2 = {\n",
        "    '2018': {\n",
        "        'Madhu': 160000,\n",
        "        'Kusum': 110000,\n",
        "        'Kinshuk': 500000,\n",
        "        'Ankit': 340000,\n",
        "        'Shruti': 900000\n",
        "    }\n",
        "}\n",
        "sales2 = pd.DataFrame(data2)\n",
        "\n",
        "\n",
        "a = pd.concat([a, sales2], axis= 1)\n",
        "print(a)\n",
        "\n",
        "#transpose\n",
        "print(\"\\nTranspose: \\n\", a.T)"
      ],
      "metadata": {
        "colab": {
          "base_uri": "https://localhost:8080/"
        },
        "id": "DVnCfHFSD6B6",
        "outputId": "4e6551d6-3933-4d85-ff02-54d560c91e94"
      },
      "execution_count": null,
      "outputs": [
        {
          "output_type": "stream",
          "name": "stdout",
          "text": [
            "            2014   2015    2016   2017    2018\n",
            "Madhu      100.5  12000   20000  50000  160000\n",
            "Kusum      150.8  18000   50000  60000  110000\n",
            "Kinshuk    200.9  22000   70000  70000  500000\n",
            "Ankit    30000.0  30000  100000  80000  340000\n",
            "Shruti   40000.0  45000  125000  90000  900000\n",
            "\n",
            "Transpose: \n",
            "          Madhu     Kusum   Kinshuk     Ankit    Shruti\n",
            "2014     100.5     150.8     200.9   30000.0   40000.0\n",
            "2015   12000.0   18000.0   22000.0   30000.0   45000.0\n",
            "2016   20000.0   50000.0   70000.0  100000.0  125000.0\n",
            "2017   50000.0   60000.0   70000.0   80000.0   90000.0\n",
            "2018  160000.0  110000.0  500000.0  340000.0  900000.0\n"
          ]
        }
      ]
    },
    {
      "cell_type": "code",
      "source": [
        "#2017\n",
        "print(\"Sales 2017: \\n\", a[2017])\n",
        "\n",
        "print(a.loc[['Madhu', 'Ankit'], [2017, '2018']])\n",
        "print()\n",
        "print(a.loc['Shruti', 2016])\n",
        "print()\n",
        "a.loc['Sumeet'] = [196.2, 37800, 52000, 78438, 38852, None]  # fill 2018 later\n",
        "a.at['Sumeet', '2018'] = 38852\n"
      ],
      "metadata": {
        "colab": {
          "base_uri": "https://localhost:8080/"
        },
        "id": "shqPRjZJaV3Q",
        "outputId": "e19a2900-b544-4c7d-8d64-ed40a56e8fe7"
      },
      "execution_count": null,
      "outputs": [
        {
          "output_type": "stream",
          "name": "stdout",
          "text": [
            "Sales 2017: \n",
            " Madhu      50000\n",
            "Kusum      60000\n",
            "Kinshuk    70000\n",
            "Ankit      80000\n",
            "Shruti     90000\n",
            "Name: 2017, dtype: int64\n",
            "        2017    2018\n",
            "Madhu  50000  160000\n",
            "Ankit  80000  340000\n",
            "\n",
            "125000\n"
          ]
        }
      ]
    },
    {
      "cell_type": "code",
      "source": [
        "a.drop(columns=2014, inplace=True)"
      ],
      "metadata": {
        "id": "IuigA0vAV-Qz"
      },
      "execution_count": null,
      "outputs": []
    },
    {
      "cell_type": "code",
      "source": [
        "a.drop(index='Kinshuk', inplace=True)"
      ],
      "metadata": {
        "id": "32L2Vei-WB59"
      },
      "execution_count": null,
      "outputs": []
    },
    {
      "cell_type": "code",
      "source": [
        "a.rename(index={'Ankit': 'Vivaan', 'Madhu': 'Shailesh'}, inplace=True)"
      ],
      "metadata": {
        "id": "cLQ1QowrXCaf"
      },
      "execution_count": null,
      "outputs": []
    },
    {
      "cell_type": "code",
      "source": [
        "a.at['Shailesh', '2018'] = 100000"
      ],
      "metadata": {
        "id": "h4TACvv1XIWX"
      },
      "execution_count": null,
      "outputs": []
    },
    {
      "cell_type": "code",
      "source": [
        "a.to_csv('SalesFigures.csv', index=False, header=False)"
      ],
      "metadata": {
        "id": "wbbg98BnXNGd"
      },
      "execution_count": null,
      "outputs": []
    },
    {
      "cell_type": "code",
      "source": [
        "# Read raw data\n",
        "SalesRetrieved = pd.read_csv('SalesFigures.csv', header=None)\n",
        "\n",
        "# Assign same row/column labels as Sales\n",
        "SalesRetrieved.index = a.index\n",
        "SalesRetrieved.columns = a.columns\n",
        "\n",
        "print(SalesRetrieved)\n"
      ],
      "metadata": {
        "colab": {
          "base_uri": "https://localhost:8080/"
        },
        "id": "ivc6bvzcXfRD",
        "outputId": "641e7ac0-b1b4-47c9-f9c0-47c6917f2171"
      },
      "execution_count": null,
      "outputs": [
        {
          "output_type": "stream",
          "name": "stdout",
          "text": [
            "           2015    2016   2017    2018\n",
            "Shailesh  12000   20000  50000  100000\n",
            "Kusum     18000   50000  60000  110000\n",
            "Vivaan    30000  100000  80000  340000\n",
            "Shruti    45000  125000  90000  900000\n"
          ]
        }
      ]
    },
    {
      "cell_type": "code",
      "source": [
        "import pandas as pd\n",
        "\n",
        "data = {\n",
        "    'Item': ['TV', 'TV', 'TV', 'AC'],\n",
        "    'Company': ['LG', 'VIDEOCON', 'LG', 'SONY'],\n",
        "    'Rupees': [12000, 10000, 15000, 14000],\n",
        "    'USD': [700, 650, 800, 750]\n",
        "}\n",
        "\n",
        "df = pd.DataFrame(data)\n",
        "print(df)\n"
      ],
      "metadata": {
        "colab": {
          "base_uri": "https://localhost:8080/"
        },
        "id": "DvnWaEldcy0s",
        "outputId": "28700129-22c6-46f7-ad34-ceccaa74b529"
      },
      "execution_count": null,
      "outputs": [
        {
          "output_type": "stream",
          "name": "stdout",
          "text": [
            "  Item   Company  Rupees  USD\n",
            "0   TV        LG   12000  700\n",
            "1   TV  VIDEOCON   10000  650\n",
            "2   TV        LG   15000  800\n",
            "3   AC      SONY   14000  750\n"
          ]
        }
      ]
    },
    {
      "cell_type": "code",
      "source": [
        "new_data = [\n",
        "    {'Item': 'TV', 'Company': 'SAMSUNG', 'Rupees': 17000, 'USD': 900},\n",
        "    {'Item': 'AC', 'Company': 'LG', 'Rupees': 16000, 'USD': 850}\n",
        "]\n",
        "\n",
        "df = pd.concat([df, pd.DataFrame(new_data)], ignore_index=True)"
      ],
      "metadata": {
        "id": "YWhaIMh4czuq"
      },
      "execution_count": null,
      "outputs": []
    },
    {
      "cell_type": "code",
      "source": [
        "lg_tv_max = df[(df['Company'] == 'LG') & (df['Item'] == 'TV')]['Rupees'].max()\n",
        "print(\"Maximum price of LG TV:\", lg_tv_max)"
      ],
      "metadata": {
        "colab": {
          "base_uri": "https://localhost:8080/"
        },
        "id": "eMcY3Q_hc2Jq",
        "outputId": "38431068-fd8c-4a24-a178-622356482807"
      },
      "execution_count": null,
      "outputs": [
        {
          "output_type": "stream",
          "name": "stdout",
          "text": [
            "Maximum price of LG TV: 15000\n"
          ]
        }
      ]
    },
    {
      "cell_type": "code",
      "source": [
        "total_rupees = df['Rupees'].sum()\n",
        "print(\"Total sum of all products (Rupees):\", total_rupees)\n",
        "\n",
        "median_sony_usd = df[df['Company'] == 'SONY']['USD'].median()\n",
        "print(\"Median USD of SONY products:\", median_sony_usd)\n",
        "\n",
        "df_sorted = df.sort_values(by='Rupees')\n",
        "print(\"Sorted DataFrame by Rupees:\")\n",
        "print(df_sorted)"
      ],
      "metadata": {
        "colab": {
          "base_uri": "https://localhost:8080/"
        },
        "id": "XgJYrOAQdu6E",
        "outputId": "0e1e2e49-5adf-43c8-f86a-dde92acc0a6a"
      },
      "execution_count": null,
      "outputs": [
        {
          "output_type": "stream",
          "name": "stdout",
          "text": [
            "Total sum of all products (Rupees): 84000\n",
            "Median USD of SONY products: 750.0\n",
            "Sorted DataFrame by Rupees:\n",
            "  Item   Company  Rupees  USD\n",
            "1   TV  VIDEOCON   10000  650\n",
            "0   TV        LG   12000  700\n",
            "3   AC      SONY   14000  750\n",
            "2   TV        LG   15000  800\n",
            "5   AC        LG   16000  850\n",
            "4   TV   SAMSUNG   17000  900\n"
          ]
        }
      ]
    },
    {
      "cell_type": "code",
      "source": [
        "import pandas as pd\n",
        "import numpy as np\n",
        "\n",
        "data = {\n",
        "    'Name': ['Aparna', 'Pankaj', 'Ram', 'Ramesh', 'Naveen', 'Krishnav', 'Bhawna'],\n",
        "    'Degree': ['MBA', 'BCA', 'M.Tech', 'MBA', np.nan, 'BCA', 'MBA'],\n",
        "    'Score': [90.0, np.nan, 80.0, 98.0, 97.0, 78.0, 89.0]\n",
        "}\n",
        "\n",
        "df = pd.DataFrame(data)"
      ],
      "metadata": {
        "id": "glScYaAOhvpD"
      },
      "execution_count": null,
      "outputs": []
    },
    {
      "cell_type": "code",
      "source": [
        "import pandas as pd\n",
        "import numpy as np\n",
        "\n",
        "data = {\n",
        "    'Name': ['Aparna', 'Pankaj', 'Ram', 'Ramesh', 'Naveen', 'Krishnav', 'Bhawna'],\n",
        "    'Degree': ['MBA', 'BCA', 'M.Tech', 'MBA', np.nan, 'BCA', 'MBA'],\n",
        "    'Score': [90.0, np.nan, 80.0, 98.0, 97.0, 78.0, 89.0]\n",
        "}\n",
        "\n",
        "df = pd.DataFrame(data)\n",
        "print(df)"
      ],
      "metadata": {
        "colab": {
          "base_uri": "https://localhost:8080/"
        },
        "id": "C7a_MwfRi39K",
        "outputId": "9a0a27ae-be37-49dc-c74f-7bff385f7c71"
      },
      "execution_count": null,
      "outputs": [
        {
          "output_type": "stream",
          "name": "stdout",
          "text": [
            "       Name  Degree  Score\n",
            "0    Aparna     MBA   90.0\n",
            "1    Pankaj     BCA    NaN\n",
            "2       Ram  M.Tech   80.0\n",
            "3    Ramesh     MBA   98.0\n",
            "4    Naveen     NaN   97.0\n",
            "5  Krishnav     BCA   78.0\n",
            "6    Bhawna     MBA   89.0\n"
          ]
        }
      ]
    },
    {
      "cell_type": "code",
      "source": [
        "print(df.groupby('Degree')['Score'].max())\n",
        "\n",
        "df['Score'].fillna(76, inplace=True)\n",
        "df['Degree'].fillna('76', inplace=True)  # or any other default string if 76 is confusing\n"
      ],
      "metadata": {
        "colab": {
          "base_uri": "https://localhost:8080/"
        },
        "id": "eNHCWzufjmdw",
        "outputId": "456f892f-ee58-4b33-dff5-01540d1da97a"
      },
      "execution_count": null,
      "outputs": [
        {
          "output_type": "stream",
          "name": "stdout",
          "text": [
            "Degree\n",
            "BCA       78.0\n",
            "M.Tech    80.0\n",
            "MBA       98.0\n",
            "Name: Score, dtype: float64\n"
          ]
        },
        {
          "output_type": "stream",
          "name": "stderr",
          "text": [
            "/tmp/ipython-input-21-3845681774.py:3: FutureWarning: A value is trying to be set on a copy of a DataFrame or Series through chained assignment using an inplace method.\n",
            "The behavior will change in pandas 3.0. This inplace method will never work because the intermediate object on which we are setting values always behaves as a copy.\n",
            "\n",
            "For example, when doing 'df[col].method(value, inplace=True)', try using 'df.method({col: value}, inplace=True)' or df[col] = df[col].method(value) instead, to perform the operation inplace on the original object.\n",
            "\n",
            "\n",
            "  df['Score'].fillna(76, inplace=True)\n",
            "/tmp/ipython-input-21-3845681774.py:4: FutureWarning: A value is trying to be set on a copy of a DataFrame or Series through chained assignment using an inplace method.\n",
            "The behavior will change in pandas 3.0. This inplace method will never work because the intermediate object on which we are setting values always behaves as a copy.\n",
            "\n",
            "For example, when doing 'df[col].method(value, inplace=True)', try using 'df.method({col: value}, inplace=True)' or df[col] = df[col].method(value) instead, to perform the operation inplace on the original object.\n",
            "\n",
            "\n",
            "  df['Degree'].fillna('76', inplace=True)  # or any other default string if 76 is confusing\n"
          ]
        }
      ]
    },
    {
      "cell_type": "code",
      "source": [
        "df.set_index('Name', inplace=True)\n"
      ],
      "metadata": {
        "colab": {
          "base_uri": "https://localhost:8080/",
          "height": 280
        },
        "collapsed": true,
        "id": "1cDq3JWUkRCs",
        "outputId": "73422d49-e88e-4f4f-f7b3-1ff5efd3cd16"
      },
      "execution_count": null,
      "outputs": [
        {
          "output_type": "error",
          "ename": "KeyError",
          "evalue": "\"None of ['Name'] are in the columns\"",
          "traceback": [
            "\u001b[0;31m---------------------------------------------------------------------------\u001b[0m",
            "\u001b[0;31mKeyError\u001b[0m                                  Traceback (most recent call last)",
            "\u001b[0;32m/tmp/ipython-input-24-1082205696.py\u001b[0m in \u001b[0;36m<cell line: 0>\u001b[0;34m()\u001b[0m\n\u001b[0;32m----> 1\u001b[0;31m \u001b[0mdf\u001b[0m\u001b[0;34m.\u001b[0m\u001b[0mset_index\u001b[0m\u001b[0;34m(\u001b[0m\u001b[0;34m'Name'\u001b[0m\u001b[0;34m,\u001b[0m \u001b[0minplace\u001b[0m\u001b[0;34m=\u001b[0m\u001b[0;32mTrue\u001b[0m\u001b[0;34m)\u001b[0m\u001b[0;34m\u001b[0m\u001b[0;34m\u001b[0m\u001b[0m\n\u001b[0m",
            "\u001b[0;32m/usr/local/lib/python3.11/dist-packages/pandas/core/frame.py\u001b[0m in \u001b[0;36mset_index\u001b[0;34m(self, keys, drop, append, inplace, verify_integrity)\u001b[0m\n\u001b[1;32m   6120\u001b[0m \u001b[0;34m\u001b[0m\u001b[0m\n\u001b[1;32m   6121\u001b[0m         \u001b[0;32mif\u001b[0m \u001b[0mmissing\u001b[0m\u001b[0;34m:\u001b[0m\u001b[0;34m\u001b[0m\u001b[0;34m\u001b[0m\u001b[0m\n\u001b[0;32m-> 6122\u001b[0;31m             \u001b[0;32mraise\u001b[0m \u001b[0mKeyError\u001b[0m\u001b[0;34m(\u001b[0m\u001b[0;34mf\"None of {missing} are in the columns\"\u001b[0m\u001b[0;34m)\u001b[0m\u001b[0;34m\u001b[0m\u001b[0;34m\u001b[0m\u001b[0m\n\u001b[0m\u001b[1;32m   6123\u001b[0m \u001b[0;34m\u001b[0m\u001b[0m\n\u001b[1;32m   6124\u001b[0m         \u001b[0;32mif\u001b[0m \u001b[0minplace\u001b[0m\u001b[0;34m:\u001b[0m\u001b[0;34m\u001b[0m\u001b[0;34m\u001b[0m\u001b[0m\n",
            "\u001b[0;31mKeyError\u001b[0m: \"None of ['Name'] are in the columns\""
          ]
        }
      ]
    },
    {
      "cell_type": "code",
      "source": [
        "print(df)\n",
        "print()\n",
        "print(df.groupby(['Name', 'Degree'])['Score'].mean())\n",
        "print()\n",
        "mba_count = df[df['Degree'] == 'MBA'].shape[0]\n",
        "print(\"Number of MBA students:\", mba_count)\n",
        "print()\n",
        "bca_mode = df[df['Degree'] == 'BCA']['Score'].mode()\n",
        "print(\"Mode marks of BCA students:\", bca_mode.values)\n"
      ],
      "metadata": {
        "colab": {
          "base_uri": "https://localhost:8080/"
        },
        "id": "e0_h5XcMkt8C",
        "outputId": "633163a2-f293-4531-f5dc-332bcfacc307"
      },
      "execution_count": null,
      "outputs": [
        {
          "output_type": "stream",
          "name": "stdout",
          "text": [
            "          Degree  Score\n",
            "Name                   \n",
            "Aparna       MBA   90.0\n",
            "Pankaj       BCA   76.0\n",
            "Ram       M.Tech   80.0\n",
            "Ramesh       MBA   98.0\n",
            "Naveen        76   97.0\n",
            "Krishnav     BCA   78.0\n",
            "Bhawna       MBA   89.0\n",
            "\n",
            "Name      Degree\n",
            "Aparna    MBA       90.0\n",
            "Bhawna    MBA       89.0\n",
            "Krishnav  BCA       78.0\n",
            "Naveen    76        97.0\n",
            "Pankaj    BCA       76.0\n",
            "Ram       M.Tech    80.0\n",
            "Ramesh    MBA       98.0\n",
            "Name: Score, dtype: float64\n",
            "\n",
            "Number of MBA students: 3\n",
            "\n",
            "Mode marks of BCA students: [76. 78.]\n"
          ]
        }
      ]
    }
  ]
}